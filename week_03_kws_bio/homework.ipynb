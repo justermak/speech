{
 "cells": [
  {
   "cell_type": "markdown",
   "metadata": {},
   "source": [
    "# Homework (Week 3) -- Biometrics (20 points)\n",
    "\n",
    "In this homework we train Biometrics Verification model and use some features to increase quality:\n",
    "1) Train ECAPA-TDNN (10 points)\n",
    "2) Any contrastive loss (10 points)\n",
    "\n",
    "Link to download dataset: https://disk.yandex.ru/d/lyhtieYbxQOYqw"
   ]
  },
  {
   "cell_type": "code",
   "execution_count": 1,
   "metadata": {},
   "outputs": [],
   "source": [
    "import os\n",
    "\n",
    "import matplotlib.pyplot as plt\n",
    "import numpy as np\n",
    "import pandas as pd\n",
    "import requests\n",
    "import torch\n",
    "import torch.nn as nn\n",
    "import torch.nn.functional as F\n",
    "import torch.optim as optim\n",
    "import torch.utils.data as torch_data\n",
    "import torchaudio\n",
    "import tqdm.notebook as tqdm\n",
    "import urllib\n",
    "\n",
    "import dataset\n",
    "\n",
    "from IPython.display import clear_output\n",
    "\n",
    "%matplotlib inline"
   ]
  },
  {
   "cell_type": "code",
   "execution_count": 2,
   "metadata": {},
   "outputs": [],
   "source": [
    "# base_url = 'https://cloud-api.yandex.net/v1/disk/public/resources/download?'\n",
    "# public_key = 'https://disk.yandex.ru/d/lyhtieYbxQOYqw'\n",
    "# final_url = base_url + urllib.parse.urlencode(dict(public_key=public_key))\n",
    "# response = requests.get(final_url)\n",
    "# download_url = response.json()['href']\n",
    "# !wget -O voxceleb.tar.gz \"{download_url}\"\n",
    "# !tar -xf voxceleb.tar.gz"
   ]
  },
  {
   "cell_type": "markdown",
   "metadata": {},
   "source": [
    "### Some model train example"
   ]
  },
  {
   "cell_type": "code",
   "execution_count": 3,
   "metadata": {},
   "outputs": [],
   "source": [
    "DEVICE = 'cuda' # \"cpu\" for cpu, also you can use \"cuda\" for gpu and \"mps\" for apple silicon\n",
    "DATADIR = '../data'\n",
    "FEATS = 80\n",
    "LOADER_WORKERS = 8"
   ]
  },
  {
   "cell_type": "code",
   "execution_count": 4,
   "metadata": {},
   "outputs": [
    {
     "name": "stderr",
     "output_type": "stream",
     "text": [
      "c:\\Users\\andre\\AppData\\Local\\Python\\Python310\\lib\\site-packages\\torchaudio\\functional\\functional.py:584: UserWarning: At least one mel filterbank has all zero values. The value for `n_mels` (128) may be set too high. Or, the value for `n_freqs` (201) may be set too low.\n",
      "  warnings.warn(\n"
     ]
    }
   ],
   "source": [
    "train_transform = nn.Sequential(\n",
    "    torchaudio.transforms.MFCC(n_mfcc=FEATS),\n",
    "    # torchaudio.transforms.TimeMasking(10),\n",
    "    # torchaudio.transforms.FrequencyMasking(10),\n",
    ")\n",
    "test_transform = torchaudio.transforms.MFCC(n_mfcc=FEATS)\n",
    "trainset = dataset.Dataset(os.path.join(DATADIR, 'voxceleb_train'), train_transform)\n",
    "testset = dataset.Dataset(os.path.join(DATADIR, 'voxceleb_test'), test_transform)\n",
    "test_targets = pd.read_csv(os.path.join(DATADIR, 'target.csv')).values.tolist()"
   ]
  },
  {
   "cell_type": "markdown",
   "metadata": {},
   "source": [
    "### Models"
   ]
  },
  {
   "cell_type": "code",
   "execution_count": 5,
   "metadata": {},
   "outputs": [],
   "source": [
    "# class Model(nn.Module):\n",
    "#     def __init__(self, input_shape: int, output_shape: int, hidden: int, kernel: int = 7, sride: int = 2):\n",
    "#         super().__init__()\n",
    "#         self._emb = nn.Sequential(\n",
    "#             nn.Conv1d(input_shape, hidden, kernel, stride=sride),\n",
    "#             nn.ReLU(),\n",
    "#             nn.Conv1d(hidden, hidden, kernel, stride=sride),\n",
    "#             nn.ReLU(),\n",
    "#             nn.Conv1d(hidden, hidden, kernel, stride=sride),\n",
    "#             nn.AdaptiveMaxPool1d(1),\n",
    "#         )\n",
    "#         self._final = nn.Sequential(\n",
    "#             nn.Linear(hidden, output_shape),\n",
    "#             nn.LogSoftmax(dim=-1)\n",
    "#         )\n",
    "\n",
    "#     def forward(self, X) -> tuple[torch.Tensor, torch.Tensor]:\n",
    "#         emb = self._emb(X).squeeze(2)\n",
    "#         return self._final(emb), emb"
   ]
  },
  {
   "cell_type": "markdown",
   "metadata": {},
   "source": [
    "### Metrics\n",
    "\n",
    "Cosine similarity:\n",
    "$CS(a, b) = \\frac{<a, b>}{\\|a\\| \\|b\\|}$"
   ]
  },
  {
   "cell_type": "code",
   "execution_count": 6,
   "metadata": {},
   "outputs": [],
   "source": [
    "def cosine_similarity(a, b):\n",
    "    a = a.reshape(-1)\n",
    "    b = b.reshape(-1)\n",
    "    return np.dot(a, b) / np.linalg.norm(a) / np.linalg.norm(b)"
   ]
  },
  {
   "cell_type": "markdown",
   "metadata": {},
   "source": [
    "Here is O(N log N) algorithm for find best_eer:\n",
    "1) Sort prediction by probability\n",
    "2) Going through items and recalculating far and frr"
   ]
  },
  {
   "cell_type": "code",
   "execution_count": 7,
   "metadata": {},
   "outputs": [],
   "source": [
    "def best_eer(data):\n",
    "    full = sorted(data, key=lambda x: (x[0], -x[1]))\n",
    "    pos = len([item for item in full if item[1] == 1])\n",
    "    neg = len(full) - pos\n",
    "    cur_pos = pos\n",
    "    cur_neg = 0\n",
    "    best_eer = 1\n",
    "    for _, label in full:\n",
    "        if label == 1:\n",
    "            cur_pos -= 1\n",
    "        else:\n",
    "            cur_neg += 1\n",
    "        cur_eer = max((pos - cur_pos) / pos, (neg - cur_neg) / neg)\n",
    "        best_eer = min(best_eer, cur_eer)\n",
    "    return best_eer"
   ]
  },
  {
   "cell_type": "markdown",
   "metadata": {},
   "source": [
    "### Train"
   ]
  },
  {
   "cell_type": "code",
   "execution_count": 8,
   "metadata": {},
   "outputs": [],
   "source": [
    "def train_stage(model, opt, scheduler, batch_size: int = 32):\n",
    "    loader = torch_data.DataLoader(\n",
    "        trainset,\n",
    "        shuffle=True,\n",
    "        batch_size=batch_size,\n",
    "        collate_fn=dataset.collate_fn,\n",
    "        num_workers=LOADER_WORKERS,\n",
    "    )\n",
    "    loss_sum = 0.0\n",
    "    batches = 0\n",
    "    i = 0\n",
    "    for X, Y, _ in tqdm.tqdm(loader):\n",
    "        logits, _ = model.forward(X.to(DEVICE))\n",
    "        loss = F.nll_loss(logits, Y.to(DEVICE))\n",
    "        loss_sum += loss.item()\n",
    "        batches += 1\n",
    "        loss.backward()\n",
    "        if (i + 1) % 4 == 0:\n",
    "            opt.step()\n",
    "            scheduler.step()\n",
    "            opt.zero_grad()\n",
    "        i += 1\n",
    "    return loss_sum / batches"
   ]
  },
  {
   "cell_type": "code",
   "execution_count": 9,
   "metadata": {},
   "outputs": [],
   "source": [
    "def calc_eval_score(model: nn.Module, batch_size: int = 32):\n",
    "    loader = torch_data.DataLoader(\n",
    "        testset,\n",
    "        batch_size=batch_size,\n",
    "        collate_fn=dataset.collate_fn,\n",
    "        num_workers=LOADER_WORKERS,\n",
    "    )\n",
    "    items = {}\n",
    "    target_scores = []\n",
    "    with torch.no_grad():\n",
    "        for X, _, pathes in tqdm.tqdm(loader):\n",
    "            _, embds = model.forward(X.to(DEVICE))\n",
    "            embds = embds.cpu().data.numpy().reshape(X.shape[0], -1)\n",
    "            for embd, path in zip(embds, pathes):\n",
    "                items[path] = embd\n",
    "    for item1, item2, target in test_targets:\n",
    "        item1 = item1.replace('/', '\\\\') # windows is cringe\n",
    "        item2 = item2.replace('/', '\\\\') # windows is cringe x2\n",
    "        target_scores.append((cosine_similarity(items[item1], items[item2]), target))\n",
    "    return best_eer(target_scores)"
   ]
  },
  {
   "cell_type": "code",
   "execution_count": 10,
   "metadata": {},
   "outputs": [],
   "source": [
    "def train(\n",
    "    model: nn.Module,\n",
    "    opt,\n",
    "    scheduler,\n",
    "    batch_size: int = 32,\n",
    "    epochs: int = 12,\n",
    "    train_fun = train_stage,\n",
    "):\n",
    "    train_losses = []\n",
    "    eval_scores = []\n",
    "    for epoch in range(epochs):\n",
    "        model.train()\n",
    "        train_losses.append(train_fun(model, opt, scheduler, batch_size=batch_size))\n",
    "        \n",
    "        model.eval()\n",
    "        eval_scores.append(calc_eval_score(model, batch_size=batch_size))\n",
    "        clear_output()\n",
    "        fig, axis = plt.subplots(1, 2, figsize=(15, 7))\n",
    "        axis[0].plot(np.arange(1, epoch + 2), train_losses, label='train CE loss')\n",
    "        axis[0].set(xlabel='epoch', ylabel='CE Loss')\n",
    "    \n",
    "        axis[1].plot(np.arange(1, epoch + 2), eval_scores, label='eval')\n",
    "        axis[1].set(xlabel='epoch', ylabel='EER')\n",
    "        fig.legend()\n",
    "        plt.show()\n",
    "        print(f'Epoch {epoch + 1}. Train loss {train_losses[-1]}. Eval score {eval_scores[-1]}')"
   ]
  },
  {
   "cell_type": "code",
   "execution_count": 11,
   "metadata": {},
   "outputs": [],
   "source": [
    "# model = Model(FEATS, trainset.speakers(), 128).to(DEVICE)\n",
    "# opt = optim.Adam(model.parameters())\n",
    "# train(model, opt)"
   ]
  },
  {
   "cell_type": "markdown",
   "metadata": {},
   "source": [
    "### ECAPA TDNN (10 points)\n",
    "\n",
    "Paper: https://arxiv.org/pdf/2005.07143.pdf\n",
    "\n",
    "Papers for ECAPA parts:\n",
    "- SE-Blocks - https://arxiv.org/pdf/1709.01507.pdf\n",
    "- Res2Net - https://arxiv.org/pdf/1904.01169.pdf\n",
    "- Attentive Stats Pooling - https://arxiv.org/pdf/1803.10963.pdf\n",
    "- AAM Softmax - https://arxiv.org/pdf/1906.07317.pdf\n",
    "\n",
    "Also you can optionally add other settings for paper:\n",
    "- SpecAug\n",
    "- Weight decay for optimizer\n",
    "- LR scheduler"
   ]
  },
  {
   "cell_type": "code",
   "execution_count": 12,
   "metadata": {},
   "outputs": [],
   "source": [
    "class SEBlock(nn.Module):\n",
    "    def __init__(self, input_shape: int, reduction: int):\n",
    "        super().__init__()\n",
    "        self.se = nn.Sequential(\n",
    "            nn.AdaptiveAvgPool1d(1),\n",
    "            nn.Conv1d(input_shape, input_shape // reduction, 1),\n",
    "            nn.ReLU(),\n",
    "            nn.Conv1d(input_shape // reduction, input_shape, 1),\n",
    "            nn.Sigmoid()\n",
    "        )\n",
    "\n",
    "    def __call__(self, X):\n",
    "        return self.se(X) * X"
   ]
  },
  {
   "cell_type": "code",
   "execution_count": 13,
   "metadata": {},
   "outputs": [
    {
     "data": {
      "text/plain": [
       "torch.Size([10, 128, 10])"
      ]
     },
     "execution_count": 13,
     "metadata": {},
     "output_type": "execute_result"
    }
   ],
   "source": [
    "b = SEBlock(128, 16)\n",
    "X = torch.randn(10, 128, 10)\n",
    "b(X).shape"
   ]
  },
  {
   "cell_type": "code",
   "execution_count": 14,
   "metadata": {},
   "outputs": [],
   "source": [
    "class Res2Net(nn.Module):\n",
    "    def __init__(self, hidden: int, dilation: int, scale: int=8):\n",
    "        super().__init__()\n",
    "        assert hidden % scale == 0\n",
    "        self.hidden = hidden\n",
    "        self.scale = scale\n",
    "        self.dconv3 = nn.ModuleList([\n",
    "            nn.Sequential(\n",
    "                nn.Conv1d(hidden // scale, hidden // scale, 3, dilation=dilation, padding='same'),\n",
    "                nn.ReLU(),\n",
    "                nn.BatchNorm1d(hidden // scale)\n",
    "            ) for _ in range(scale)\n",
    "        ])\n",
    "\n",
    "    def __call__(self, X):\n",
    "        split = torch.split(X, self.hidden // self.scale, dim=1)\n",
    "        split = [conv(x) for conv, x in zip(self.dconv3, split)]\n",
    "        out = torch.cat(split, dim=1)\n",
    "        return out"
   ]
  },
  {
   "cell_type": "code",
   "execution_count": 15,
   "metadata": {},
   "outputs": [
    {
     "data": {
      "text/plain": [
       "torch.Size([10, 128, 10])"
      ]
     },
     "execution_count": 15,
     "metadata": {},
     "output_type": "execute_result"
    }
   ],
   "source": [
    "b = Res2Net(128, 2)\n",
    "X = torch.randn(10, 128, 10)\n",
    "b(X).shape"
   ]
  },
  {
   "cell_type": "code",
   "execution_count": 16,
   "metadata": {},
   "outputs": [],
   "source": [
    "class EcapaBlock(nn.Module):\n",
    "    def __init__(self, hidden: int, dilation: int, scale: int=8):\n",
    "        super().__init__()\n",
    "        assert hidden % scale == 0\n",
    "        self.scale = scale\n",
    "        self.conv1 = nn.Sequential(\n",
    "            nn.Conv1d(hidden, hidden, 1),\n",
    "            nn.ReLU(),\n",
    "            nn.BatchNorm1d(hidden)\n",
    "        )\n",
    "        self.res2net = Res2Net(hidden, dilation, scale)\n",
    "        self.conv1_2 = nn.Sequential(\n",
    "            nn.Conv1d(hidden, hidden, 1),\n",
    "            nn.ReLU(),\n",
    "            nn.BatchNorm1d(hidden)\n",
    "        )\n",
    "        self.se = SEBlock(hidden, scale)\n",
    "\n",
    "    def __call__(self, X):\n",
    "        out = self.conv1(X)\n",
    "        out = self.res2net(out)\n",
    "        out = self.conv1_2(out)\n",
    "        out = self.se(out)\n",
    "        return out + X"
   ]
  },
  {
   "cell_type": "code",
   "execution_count": 17,
   "metadata": {},
   "outputs": [
    {
     "data": {
      "text/plain": [
       "torch.Size([10, 128, 10])"
      ]
     },
     "execution_count": 17,
     "metadata": {},
     "output_type": "execute_result"
    }
   ],
   "source": [
    "b = EcapaBlock(128, 2)\n",
    "x = torch.randn(10, 128, 10)\n",
    "b(x).shape"
   ]
  },
  {
   "cell_type": "code",
   "execution_count": 18,
   "metadata": {},
   "outputs": [],
   "source": [
    "class AttentiveStatsPooling(nn.Module):\n",
    "    def __init__(self, input_shape: int, hidden: int):\n",
    "        super().__init__()\n",
    "        self.attention = nn.Sequential(\n",
    "            nn.Conv1d(input_shape * 3, hidden, 1),\n",
    "            nn.Tanh(),\n",
    "            nn.Conv1d(hidden, 1, 1),\n",
    "            nn.Softmax(dim=-1)\n",
    "        )\n",
    "\n",
    "    def __call__(self, X):\n",
    "        # X shape = [time, feats]\n",
    "        # calc mean and std for X over time dimension\n",
    "        # concatenate mean and std to X over feats dimension to make shape [time, feats * 3]\n",
    "        # attention\n",
    "        # weighted mean and std with weights from attention for original X\n",
    "        \n",
    "        means = X.mean(dim=-1, keepdim=True) * torch.ones_like(X)\n",
    "        stds = X.std(dim=-1, keepdim=True) * torch.ones_like(X)\n",
    "        features = torch.cat([means, stds, X], dim=-2)\n",
    "        weights = self.attention(features)\n",
    "        mean = (weights * X).sum(dim=-1, keepdim=True)\n",
    "        std = ((weights * X * X).sum(dim=-1, keepdim=True) - mean * mean + 1e-5).sqrt()\n",
    "        return torch.cat([mean, std], dim=-2).squeeze(-1)"
   ]
  },
  {
   "cell_type": "code",
   "execution_count": 19,
   "metadata": {},
   "outputs": [
    {
     "data": {
      "text/plain": [
       "tensor([[-2.9578e+00,  1.0732e+00,  7.7118e-02,  8.1812e+00, -2.4408e+00,\n",
       "         -1.8688e+00,  2.0225e-01, -1.6388e+00, -3.3137e+00,  1.3734e+00,\n",
       "         -1.8709e+00, -3.4845e+00,  8.0985e+00,  5.7160e+00,  9.2962e+00,\n",
       "          1.1901e+01,  8.3429e+00,  1.1244e+01,  6.5120e+00,  9.4882e+00,\n",
       "          4.3649e+00,  4.9470e+00,  6.4368e+00,  1.6313e+01],\n",
       "        [-6.9670e+00,  5.6571e+00,  4.4443e+00, -1.0113e+00,  5.1989e+00,\n",
       "          2.4267e+00,  3.0852e-01,  2.7131e+00, -2.9435e+00, -2.2640e+00,\n",
       "         -5.7678e+00,  1.9450e-01,  8.9762e+00,  7.6205e+00,  1.0326e+01,\n",
       "          5.2978e+00,  1.5288e+01,  7.1388e+00,  6.2680e+00,  5.7554e+00,\n",
       "          8.4746e+00,  1.2994e+01,  6.1922e+00,  5.7379e+00],\n",
       "        [ 3.3037e+00,  1.2847e+00, -3.2133e+00, -4.3476e-01,  4.5245e+00,\n",
       "          4.3421e+00, -2.0991e+00, -2.3484e+00, -3.7936e-01, -1.1262e+00,\n",
       "          2.7448e+00, -2.9542e+00,  9.0230e+00,  7.1066e+00,  7.3835e+00,\n",
       "          1.2978e+01,  7.7342e+00,  1.3057e+01,  9.7099e+00,  6.1861e+00,\n",
       "          8.7005e+00,  1.4171e+01,  1.0031e+01,  1.0065e+01],\n",
       "        [ 3.5777e+00, -3.0290e+00,  7.8914e-01, -2.4862e+00,  6.2467e+00,\n",
       "         -5.8002e+00,  1.0652e+00, -3.9614e-01, -2.2443e-01,  1.7771e-01,\n",
       "         -1.2954e+00, -4.2328e+00,  8.2394e+00,  9.4925e+00,  1.1560e+01,\n",
       "          1.0005e+01,  1.2248e+01,  8.8118e+00,  4.4705e+00,  5.2429e+00,\n",
       "          8.4273e+00,  8.8423e+00,  5.6338e+00,  1.0210e+01],\n",
       "        [-2.4298e+00,  3.0715e+00,  2.3924e-01, -5.4831e+00,  8.5832e-01,\n",
       "         -2.3628e+00, -1.6705e+00, -1.5246e+00, -1.4578e+00,  3.5773e+00,\n",
       "         -6.1265e+00,  7.3192e-01,  6.3645e+00,  6.9443e+00,  1.0873e+01,\n",
       "          1.4194e+01,  8.4408e+00,  7.3865e+00,  8.8955e+00,  9.8653e+00,\n",
       "          6.5610e+00,  8.6435e+00,  6.9232e+00,  9.6708e+00],\n",
       "        [ 1.4600e+00,  4.4184e+00, -6.6192e+00, -9.0309e-02,  2.7058e+00,\n",
       "         -6.3604e-02, -6.8805e+00,  4.5846e+00, -2.6441e-01, -1.5881e+00,\n",
       "          3.2902e+00, -5.3574e+00,  9.5413e+00,  8.1483e+00,  8.2071e+00,\n",
       "          6.4723e+00,  9.1121e+00,  1.0455e+01,  7.2406e+00,  1.1235e+01,\n",
       "          7.7899e+00,  1.3975e+01,  7.4371e+00,  1.0660e+01],\n",
       "        [ 4.1160e+00, -2.5921e+00,  6.2335e+00, -1.4956e+00,  1.5243e+00,\n",
       "          7.7333e-01, -1.6087e+00, -1.0927e-02,  1.0523e+00,  2.3598e+00,\n",
       "         -1.8275e+00,  6.8494e+00,  4.3192e+00,  6.6745e+00,  1.1482e+01,\n",
       "          7.9228e+00,  1.3564e+01,  1.1770e+01,  7.9953e+00,  5.7832e+00,\n",
       "          7.0845e+00,  7.1873e+00,  1.0355e+01,  8.2656e+00],\n",
       "        [ 9.0739e-01, -2.1745e+00, -2.0424e+00, -4.7689e+00, -4.6331e+00,\n",
       "         -4.3234e+00, -2.5817e+00, -4.4948e+00, -4.3681e+00, -1.9615e+00,\n",
       "         -1.3915e+00,  1.5750e+00,  8.9909e+00,  1.2709e+01,  1.0167e+01,\n",
       "          1.1452e+01,  1.2068e+01,  8.7635e+00,  9.8935e+00,  9.0849e+00,\n",
       "          3.8061e+00,  1.1269e+01,  8.9286e+00,  8.1744e+00],\n",
       "        [ 1.3972e+00,  5.7120e+00,  2.3940e+00, -5.6364e+00,  5.6330e+00,\n",
       "          1.9434e+00,  2.5598e+00,  1.5085e+00,  8.9991e-01, -4.4735e+00,\n",
       "         -1.8168e+00, -7.5096e+00,  1.0900e+01,  5.4738e+00,  8.6401e+00,\n",
       "          9.5297e+00,  4.8407e+00,  8.6773e+00,  7.5181e+00,  1.7053e+01,\n",
       "          9.4398e+00,  1.0696e+01,  7.6502e+00,  9.3498e+00],\n",
       "        [ 6.3950e+00, -2.4038e+00, -1.7140e-01, -3.3810e+00, -4.6718e-02,\n",
       "          1.3850e+00,  2.5310e+00,  1.9374e+00, -1.2143e+00, -8.3180e-01,\n",
       "         -2.7711e-01, -1.4784e-01,  1.0201e+01,  1.2282e+01,  7.6251e+00,\n",
       "          1.4510e+01,  7.3718e+00,  8.1390e+00,  1.0766e+01,  1.0674e+01,\n",
       "          9.0113e+00,  8.2525e+00,  9.0230e+00,  9.5165e+00]],\n",
       "       grad_fn=<SqueezeBackward1>)"
      ]
     },
     "execution_count": 19,
     "metadata": {},
     "output_type": "execute_result"
    }
   ],
   "source": [
    "b = AttentiveStatsPooling(12, 6)\n",
    "x = torch.randn(10, 12, 10) * -10\n",
    "b(x)"
   ]
  },
  {
   "cell_type": "code",
   "execution_count": 20,
   "metadata": {},
   "outputs": [],
   "source": [
    "class AAMSoftmax(nn.Module):\n",
    "    def __init__(self, input_shape, n_class, margin, scale):\n",
    "        super().__init__()\n",
    "        self.emb = nn.Embedding(n_class, input_shape, max_norm=1)\n",
    "        self.theta = nn.CosineSimilarity()\n",
    "        self.margin = margin\n",
    "        self.scale = scale\n",
    "\n",
    "    def forward(self, X):\n",
    "        # calc cosine similarity between X and weights\n",
    "        # theta = angle from cosine similarity\n",
    "        # return matrix S, where S_ij = \n",
    "        #     \\log \\frac{\n",
    "        #         \\exp{scale \\cos{theta_ij + margin}}\n",
    "        #     }{\n",
    "        #         \\exp{scale \\cos{theta_ij + margin}} + \\sum_{k != j} \\exp{scale \\cos{theta_ij}}\n",
    "        #     }\n",
    "        \n",
    "        theta = torch.acos(self.theta(X.unsqueeze(2), self.emb.weight.T.unsqueeze(0)))\n",
    "        S = torch.log(\n",
    "            torch.exp(self.scale * torch.cos(theta + self.margin)) /\n",
    "            (torch.exp(self.scale * torch.cos(theta + self.margin)) + torch.sum(torch.exp(self.scale * torch.cos(theta)), dim=1, keepdim=True) - torch.exp(self.scale * torch.cos(theta)))\n",
    "        )\n",
    "        return S"
   ]
  },
  {
   "cell_type": "code",
   "execution_count": 21,
   "metadata": {},
   "outputs": [
    {
     "data": {
      "text/plain": [
       "tensor([[ -6.9064, -11.2953, -15.4513, -11.9446,  -9.9523, -11.4955,  -5.4029,\n",
       "          -9.1329, -15.7727, -12.9550],\n",
       "        [-10.2275, -10.5897, -10.6963,  -9.5817,  -9.7981,  -8.3934,  -4.7720,\n",
       "          -8.5557, -14.3054, -12.8248],\n",
       "        [-10.9956, -11.4951,  -7.2352,  -9.0892,  -8.4487,  -9.4232,  -7.6129,\n",
       "          -6.9180, -10.0141,  -7.5214],\n",
       "        [-15.6993,  -9.5135,  -7.5460, -11.5781,  -7.1638,  -7.0914,  -7.6171,\n",
       "          -9.3986,  -8.0241, -11.0667],\n",
       "        [ -7.7943,  -6.5430, -11.8093,  -8.5987, -15.1884,  -9.4572,  -9.1581,\n",
       "          -9.4745, -10.9658,  -6.7614],\n",
       "        [ -9.0195, -11.1499, -16.3853,  -5.3143, -16.0193,  -6.9289, -12.5805,\n",
       "         -11.8416, -15.2648, -13.3168],\n",
       "        [-11.2371, -15.9041,  -9.2508, -12.0153, -10.1121,  -9.2004,  -8.0372,\n",
       "          -4.7091, -15.1152, -11.3168],\n",
       "        [ -2.7768, -10.1725, -15.1810, -12.4463, -10.5932, -15.0184, -12.0996,\n",
       "         -13.4945, -11.1152, -11.9292],\n",
       "        [-10.6778, -10.9429,  -9.2020,  -9.3291, -11.3906,  -6.3687, -10.0947,\n",
       "          -7.3297, -10.1187,  -7.0182],\n",
       "        [-10.1489,  -6.3723,  -6.8401,  -8.5601,  -8.5808, -13.1024, -10.9837,\n",
       "         -11.4576,  -7.8447, -14.7851]], grad_fn=<LogBackward0>)"
      ]
     },
     "execution_count": 21,
     "metadata": {},
     "output_type": "execute_result"
    }
   ],
   "source": [
    "b = AAMSoftmax(128, 10, 0.2, 30)\n",
    "x = torch.randn(10, 128)\n",
    "b(x)"
   ]
  },
  {
   "cell_type": "code",
   "execution_count": 22,
   "metadata": {},
   "outputs": [],
   "source": [
    "class EcapaTDNN(nn.Module):\n",
    "    def __init__(self, input_shape: int, output_shape: int, hidden: int, embedding_shape: int):\n",
    "        super().__init__()\n",
    "        self.conv1 = nn.Conv1d(input_shape, hidden, 5, padding='same')\n",
    "        self.relu = nn.ReLU()\n",
    "        self.bn = nn.BatchNorm1d(hidden)\n",
    "        self.block1 = EcapaBlock(hidden, 2)\n",
    "        self.block2 = EcapaBlock(hidden, 3)\n",
    "        self.block3 = EcapaBlock(hidden, 4)\n",
    "        self.conv1_2 = nn.Sequential(\n",
    "            nn.Conv1d(hidden * 3, hidden * 3, 1),\n",
    "            nn.ReLU(),\n",
    "        )\n",
    "        self.pool = AttentiveStatsPooling(hidden * 3, hidden)\n",
    "        self.bn1 = nn.BatchNorm1d(hidden * 6)\n",
    "        self.fc = nn.Linear(hidden * 6, embedding_shape)\n",
    "        self.bn2 = nn.BatchNorm1d(embedding_shape)\n",
    "        self.aam_sm = AAMSoftmax(embedding_shape, output_shape, 0.2, 30)\n",
    "            \n",
    "\n",
    "    def forward(self, X):\n",
    "        out = self.conv1(X)\n",
    "        out = self.relu(out)\n",
    "        out = self.bn(out)\n",
    "        b1 = self.block1(out)\n",
    "        b2 = self.block2(b1)\n",
    "        b3 = self.block3(b2)\n",
    "        out = self.conv1_2(torch.cat([b1, b2, b3], dim=1))\n",
    "        out = self.pool(out)\n",
    "        out = self.bn1(out)\n",
    "        out = self.fc(out)\n",
    "        out = self.bn2(out)\n",
    "        return self.aam_sm(out), out"
   ]
  },
  {
   "cell_type": "markdown",
   "metadata": {},
   "source": [
    "Train ECAPA model, at this point you can archive stable score (for several consecutive epochs) near 0.08 EER.\n",
    "\n",
    "You can train ECAPA with hidden size 256 to increase speed"
   ]
  },
  {
   "cell_type": "code",
   "execution_count": 23,
   "metadata": {},
   "outputs": [],
   "source": [
    "model = EcapaTDNN(FEATS, trainset.speakers(), 256, 256).to(DEVICE)\n",
    "opt = optim.Adam(model.parameters(), lr=3e-4, weight_decay=1e-5)\n",
    "scheduler = torch.optim.lr_scheduler.CyclicLR(opt, base_lr=3e-4, max_lr=1e-1, mode=\"triangular2\", step_size_up=1000)"
   ]
  },
  {
   "cell_type": "code",
   "execution_count": 24,
   "metadata": {},
   "outputs": [
    {
     "name": "stdout",
     "output_type": "stream",
     "text": [
      "model weight: 10060164, batch weight: 157286400\n"
     ]
    }
   ],
   "source": [
    "num = 0\n",
    "for param in model.parameters():\n",
    "    num += param.numel() * 4\n",
    "print(f\"model weight: {num}, batch weight: {256 * 6 * 800 * 32 * 4}\")"
   ]
  },
  {
   "cell_type": "code",
   "execution_count": 25,
   "metadata": {},
   "outputs": [
    {
     "data": {
      "image/png": "[encoded data removed]",
      "text/plain": [
       "<Figure size 1500x700 with 2 Axes>"
      ]
     },
     "metadata": {},
     "output_type": "display_data"
    },
    {
     "name": "stdout",
     "output_type": "stream",
     "text": [
      "Epoch 12. Train loss 1.0459884024133317. Eval score 0.07987119585806289\n"
     ]
    }
   ],
   "source": [
    "train(model, opt, scheduler)"
   ]
  },
  {
   "cell_type": "code",
   "execution_count": 26,
   "metadata": {},
   "outputs": [],
   "source": [
    "torch.save(model, 'model0.pt')"
   ]
  },
  {
   "cell_type": "markdown",
   "metadata": {},
   "source": [
    "### Contrastive losses (10 points)\n",
    "\n",
    "You can use anyone constrative loss.\n",
    "Good article with contrastive losses https://lilianweng.github.io/posts/2021-05-31-contrastive/\n",
    "\n",
    "Base losses:\n",
    "- contrastive\n",
    "- triplet -- it gives a better quality usually\n",
    "- lifted structured loss -- better batch data utilization\n",
    "\n",
    "The main problem with contrastive loss is the positive pairs sampler.\n",
    "This is because a large number of classes provided only once per batch\n",
    "in case of large number of classes in the dataset."
   ]
  },
  {
   "cell_type": "code",
   "execution_count": 27,
   "metadata": {},
   "outputs": [],
   "source": [
    "class PositivePairsSampler(torch.utils.data.Sampler):\n",
    "    def __init__(self, speakers: list[int], batch_size: int):\n",
    "        self.len = len(speakers) // batch_size // 2 * 2 * batch_size\n",
    "        self.batch_size = batch_size\n",
    "        idxs = torch.randperm(self.len // 2)\n",
    "        self.pos = [x.item() for xs in zip(2 * idxs[::2], 2 * idxs[::2] + 1) for x in xs]\n",
    "        self.rand = (2 * idxs[1::2]).tolist() + (2 * idxs[1::2] + 1).tolist()\n",
    "        self.idx = []\n",
    "        for i in range(len(self)):\n",
    "            self.idx += self.pos[i * self.batch_size // 2: (i + 1) * self.batch_size // 2] + self.rand[i * self.batch_size // 2: (i + 1) * self.batch_size // 2]\n",
    "        \n",
    "\n",
    "    def __len__(self):\n",
    "        return (self.len + self.batch_size - 1) // self.batch_size\n",
    "\n",
    "    def __iter__(self):\n",
    "        # yield __len__ batches as list of indexes of samples from dataset\n",
    "        for batch in torch.chunk(torch.tensor(self.idx), len(self)):\n",
    "            yield batch.tolist()\n",
    "            "
   ]
  },
  {
   "cell_type": "code",
   "execution_count": 28,
   "metadata": {},
   "outputs": [
    {
     "name": "stdout",
     "output_type": "stream",
     "text": [
      "tensor([ 502,  502,  333,  333,  957,  957, 1021, 1021,  104,  703,  783,   32,\n",
      "         470,  100,  967, 1055])\n",
      "tensor([ 186,  186,  801,  801,  159,  159,  965,  965,  367,  166,  131,  814,\n",
      "          72, 1169,  752, 1074])\n",
      "tensor([ 136,  136, 1064, 1064,  107,  107,  694,  694,  977,  159,  460,    2,\n",
      "          20, 1052, 1184, 1094])\n"
     ]
    }
   ],
   "source": [
    "loader = torch_data.DataLoader(\n",
    "        trainset,\n",
    "        collate_fn=dataset.collate_fn,\n",
    "        num_workers=LOADER_WORKERS,\n",
    "        batch_sampler=PositivePairsSampler(trainset._speakers, 16)\n",
    "    )\n",
    "it = iter(loader)\n",
    "for _ in range(3):\n",
    "    _, Y, _ = next(it)\n",
    "    print(Y)"
   ]
  },
  {
   "cell_type": "code",
   "execution_count": 29,
   "metadata": {},
   "outputs": [],
   "source": [
    "def contrastive_train_stage(model, opt, scheduler, batch_size: int = 32, lam = .2, eps = 1.5):\n",
    "    # You can use any contrastive loss here to improve training\n",
    "    # You can combine contrastive loss with the NLL loss after AAM softmax to improve stability\n",
    "    loader = torch_data.DataLoader(\n",
    "        trainset,\n",
    "        collate_fn=dataset.collate_fn,\n",
    "        num_workers=LOADER_WORKERS,\n",
    "        batch_sampler=PositivePairsSampler(trainset._speakers, batch_size)\n",
    "    )\n",
    "    loss_sum = 0.0\n",
    "    batches = 0\n",
    "    i = 0\n",
    "    for X, Y, _ in tqdm.tqdm(loader):\n",
    "        logits, embeddings = model.forward(X.to(DEVICE))\n",
    "        y = Y.to(DEVICE)\n",
    "        loss1 = F.nll_loss(logits, y)\n",
    "        pos = y[::2] == y[1::2]\n",
    "        embeddings = embeddings / torch.linalg.vector_norm(embeddings, dim=-1).unsqueeze(-1)\n",
    "        norm = torch.linalg.vector_norm(embeddings[::2] - embeddings[1::2], dim=-1)\n",
    "        loss2 = (pos * norm + (~pos) * torch.max(torch.tensor(0), eps - norm)).mean()\n",
    "        loss = loss1 + lam * loss2\n",
    "        loss_sum += loss.item()\n",
    "        batches += 1\n",
    "        loss.backward()\n",
    "        if (i + 1) % 4 == 0:\n",
    "            opt.step()\n",
    "            scheduler.step()\n",
    "            opt.zero_grad()\n",
    "        i += 1\n",
    "    return loss_sum / batches\n",
    "  "
   ]
  },
  {
   "cell_type": "markdown",
   "metadata": {},
   "source": [
    "Train model with contrastive loss here. At this point you can archive EER near 0.06-0.07 (it should be at least on 0.005 to 0.01 better than before)"
   ]
  },
  {
   "cell_type": "code",
   "execution_count": 30,
   "metadata": {},
   "outputs": [
    {
     "name": "stderr",
     "output_type": "stream",
     "text": [
      "C:\\Users\\andre\\AppData\\Local\\Temp\\ipykernel_16360\\3995231155.py:1: FutureWarning: You are using `torch.load` with `weights_only=False` (the current default value), which uses the default pickle module implicitly. It is possible to construct malicious pickle data which will execute arbitrary code during unpickling (See https://github.com/pytorch/pytorch/blob/main/SECURITY.md#untrusted-models for more details). In a future release, the default value for `weights_only` will be flipped to `True`. This limits the functions that could be executed during unpickling. Arbitrary objects will no longer be allowed to be loaded via this mode unless they are explicitly allowlisted by the user via `torch.serialization.add_safe_globals`. We recommend you start setting `weights_only=True` for any use case where you don't have full control of the loaded file. Please open an issue on GitHub for any issues related to this experimental feature.\n",
      "  model = torch.load('model0.pt').to(DEVICE)\n"
     ]
    }
   ],
   "source": [
    "model = torch.load('model0.pt').to(DEVICE)\n",
    "opt = optim.Adam(model.parameters(), lr = 2e-5, weight_decay=1e-5)\n",
    "scheduler = torch.optim.lr_scheduler.CyclicLR(opt, base_lr=2e-5, max_lr=1e-2, mode=\"triangular2\", step_size_up=1000)"
   ]
  },
  {
   "cell_type": "code",
   "execution_count": 31,
   "metadata": {},
   "outputs": [
    {
     "data": {
      "image/png": "[encoded data removed]",
      "text/plain": [
       "<Figure size 1500x700 with 2 Axes>"
      ]
     },
     "metadata": {},
     "output_type": "display_data"
    },
    {
     "name": "stdout",
     "output_type": "stream",
     "text": [
      "Epoch 12. Train loss 0.6864618084642322. Eval score 0.07488319232226291\n"
     ]
    }
   ],
   "source": [
    "train(model, opt, scheduler, train_fun=contrastive_train_stage)"
   ]
  },
  {
   "cell_type": "code",
   "execution_count": 32,
   "metadata": {},
   "outputs": [],
   "source": [
    "torch.save(model, 'model1.pt')"
   ]
  },
  {
   "cell_type": "code",
   "execution_count": null,
   "metadata": {},
   "outputs": [],
   "source": []
  }
 ],
 "metadata": {
  "kernelspec": {
   "display_name": "Python 3",
   "language": "python",
   "name": "python3"
  },
  "language_info": {
   "codemirror_mode": {
    "name": "ipython",
    "version": 3
   },
   "file_extension": ".py",
   "mimetype": "text/x-python",
   "name": "python",
   "nbconvert_exporter": "python",
   "pygments_lexer": "ipython3",
   "version": "3.10.7"
  }
 },
 "nbformat": 4,
 "nbformat_minor": 4
}
