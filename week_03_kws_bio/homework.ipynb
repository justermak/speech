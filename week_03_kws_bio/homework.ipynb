{
 "cells": [
  {
   "cell_type": "markdown",
   "metadata": {},
   "source": [
    "# Homework (Week 3) -- Biometrics (20 points)\n",
    "\n",
    "In this homework we train Biometrics Verification model and use some features to increase quality:\n",
    "1) Train ECAPA-TDNN (10 points)\n",
    "2) Any contrastive loss (10 points)\n",
    "\n",
    "Link to download dataset: https://disk.yandex.ru/d/lyhtieYbxQOYqw"
   ]
  },
  {
   "cell_type": "code",
   "execution_count": 1,
   "metadata": {},
   "outputs": [],
   "source": [
    "import os\n",
    "\n",
    "import matplotlib.pyplot as plt\n",
    "import numpy as np\n",
    "import pandas as pd\n",
    "import requests\n",
    "import torch\n",
    "import torch.nn as nn\n",
    "import torch.nn.functional as F\n",
    "import torch.optim as optim\n",
    "import torch.utils.data as torch_data\n",
    "import torchaudio\n",
    "import tqdm.notebook as tqdm\n",
    "import urllib\n",
    "\n",
    "import dataset\n",
    "\n",
    "from IPython.display import clear_output\n",
    "\n",
    "%matplotlib inline"
   ]
  },
  {
   "cell_type": "code",
   "execution_count": 2,
   "metadata": {},
   "outputs": [],
   "source": [
    "# base_url = 'https://cloud-api.yandex.net/v1/disk/public/resources/download?'\n",
    "# public_key = 'https://disk.yandex.ru/d/lyhtieYbxQOYqw'\n",
    "# final_url = base_url + urllib.parse.urlencode(dict(public_key=public_key))\n",
    "# response = requests.get(final_url)\n",
    "# download_url = response.json()['href']\n",
    "# !wget -O voxceleb.tar.gz \"{download_url}\"\n",
    "# !tar -xf voxceleb.tar.gz"
   ]
  },
  {
   "cell_type": "markdown",
   "metadata": {},
   "source": [
    "### Some model train example"
   ]
  },
  {
   "cell_type": "code",
   "execution_count": 3,
   "metadata": {},
   "outputs": [],
   "source": [
    "DEVICE = 'cuda' # \"cpu\" for cpu, also you can use \"cuda\" for gpu and \"mps\" for apple silicon\n",
    "DATADIR = '../data'\n",
    "FEATS = 80\n",
    "LOADER_WORKERS = 8"
   ]
  },
  {
   "cell_type": "code",
   "execution_count": 4,
   "metadata": {},
   "outputs": [
    {
     "name": "stderr",
     "output_type": "stream",
     "text": [
      "c:\\Users\\andre\\AppData\\Local\\Python\\Python310\\lib\\site-packages\\torchaudio\\functional\\functional.py:584: UserWarning: At least one mel filterbank has all zero values. The value for `n_mels` (128) may be set too high. Or, the value for `n_freqs` (201) may be set too low.\n",
      "  warnings.warn(\n"
     ]
    }
   ],
   "source": [
    "train_transform = nn.Sequential(\n",
    "    torchaudio.transforms.MFCC(n_mfcc=FEATS),\n",
    "    # torchaudio.transforms.TimeMasking(10),\n",
    "    # torchaudio.transforms.FrequencyMasking(10),\n",
    ")\n",
    "test_transform = torchaudio.transforms.MFCC(n_mfcc=FEATS)\n",
    "trainset = dataset.Dataset(os.path.join(DATADIR, 'voxceleb_train'), train_transform)\n",
    "testset = dataset.Dataset(os.path.join(DATADIR, 'voxceleb_test'), test_transform)\n",
    "test_targets = pd.read_csv(os.path.join(DATADIR, 'target.csv')).values.tolist()"
   ]
  },
  {
   "cell_type": "markdown",
   "metadata": {},
   "source": [
    "### Models"
   ]
  },
  {
   "cell_type": "code",
   "execution_count": 5,
   "metadata": {},
   "outputs": [],
   "source": [
    "# class Model(nn.Module):\n",
    "#     def __init__(self, input_shape: int, output_shape: int, hidden: int, kernel: int = 7, sride: int = 2):\n",
    "#         super().__init__()\n",
    "#         self._emb = nn.Sequential(\n",
    "#             nn.Conv1d(input_shape, hidden, kernel, stride=sride),\n",
    "#             nn.ReLU(),\n",
    "#             nn.Conv1d(hidden, hidden, kernel, stride=sride),\n",
    "#             nn.ReLU(),\n",
    "#             nn.Conv1d(hidden, hidden, kernel, stride=sride),\n",
    "#             nn.AdaptiveMaxPool1d(1),\n",
    "#         )\n",
    "#         self._final = nn.Sequential(\n",
    "#             nn.Linear(hidden, output_shape),\n",
    "#             nn.LogSoftmax(dim=-1)\n",
    "#         )\n",
    "\n",
    "#     def forward(self, X) -> tuple[torch.Tensor, torch.Tensor]:\n",
    "#         emb = self._emb(X).squeeze(2)\n",
    "#         return self._final(emb), emb"
   ]
  },
  {
   "cell_type": "markdown",
   "metadata": {},
   "source": [
    "### Metrics\n",
    "\n",
    "Cosine similarity:\n",
    "$CS(a, b) = \\frac{<a, b>}{\\|a\\| \\|b\\|}$"
   ]
  },
  {
   "cell_type": "code",
   "execution_count": 6,
   "metadata": {},
   "outputs": [],
   "source": [
    "def cosine_similarity(a, b):\n",
    "    a = a.reshape(-1)\n",
    "    b = b.reshape(-1)\n",
    "    return np.dot(a, b) / np.linalg.norm(a) / np.linalg.norm(b)"
   ]
  },
  {
   "cell_type": "markdown",
   "metadata": {},
   "source": [
    "Here is O(N log N) algorithm for find best_eer:\n",
    "1) Sort prediction by probability\n",
    "2) Going through items and recalculating far and frr"
   ]
  },
  {
   "cell_type": "code",
   "execution_count": 7,
   "metadata": {},
   "outputs": [],
   "source": [
    "def best_eer(data):\n",
    "    full = sorted(data, key=lambda x: (x[0], -x[1]))\n",
    "    pos = len([item for item in full if item[1] == 1])\n",
    "    neg = len(full) - pos\n",
    "    cur_pos = pos\n",
    "    cur_neg = 0\n",
    "    best_eer = 1\n",
    "    for _, label in full:\n",
    "        if label == 1:\n",
    "            cur_pos -= 1\n",
    "        else:\n",
    "            cur_neg += 1\n",
    "        cur_eer = max((pos - cur_pos) / pos, (neg - cur_neg) / neg)\n",
    "        best_eer = min(best_eer, cur_eer)\n",
    "    return best_eer"
   ]
  },
  {
   "cell_type": "markdown",
   "metadata": {},
   "source": [
    "### Train"
   ]
  },
  {
   "cell_type": "code",
   "execution_count": 8,
   "metadata": {},
   "outputs": [],
   "source": [
    "def train_stage(model, opt, scheduler, batch_size: int = 128):\n",
    "    loader = torch_data.DataLoader(\n",
    "        trainset,\n",
    "        shuffle=True,\n",
    "        batch_size=batch_size,\n",
    "        collate_fn=dataset.collate_fn,\n",
    "        num_workers=LOADER_WORKERS,\n",
    "    )\n",
    "    loss_sum = 0.0\n",
    "    batches = 0\n",
    "    for X, Y, _ in tqdm.tqdm(loader):\n",
    "        opt.zero_grad()\n",
    "        logits, _ = model.forward(X.to(DEVICE))\n",
    "        loss = F.nll_loss(logits, Y.to(DEVICE))\n",
    "        loss_sum += loss.item()\n",
    "        batches += 1\n",
    "        loss.backward()\n",
    "        opt.step()\n",
    "        scheduler.step()\n",
    "    return loss_sum / batches"
   ]
  },
  {
   "cell_type": "code",
   "execution_count": 9,
   "metadata": {},
   "outputs": [],
   "source": [
    "def calc_eval_score(model: nn.Module, batch_size: int = 256):\n",
    "    loader = torch_data.DataLoader(\n",
    "        testset,\n",
    "        batch_size=batch_size,\n",
    "        collate_fn=dataset.collate_fn,\n",
    "        num_workers=LOADER_WORKERS,\n",
    "    )\n",
    "    items = {}\n",
    "    target_scores = []\n",
    "    with torch.no_grad():\n",
    "        for X, _, pathes in tqdm.tqdm(loader):\n",
    "            _, embds = model.forward(X.to(DEVICE))\n",
    "            embds = embds.cpu().data.numpy().reshape(X.shape[0], -1)\n",
    "            for embd, path in zip(embds, pathes):\n",
    "                items[path] = embd\n",
    "    for item1, item2, target in test_targets:\n",
    "        item1 = item1.replace('/', '\\\\') # windows is cringe\n",
    "        item2 = item2.replace('/', '\\\\') # windows is cringe x2\n",
    "        target_scores.append((cosine_similarity(items[item1], items[item2]), target))\n",
    "    return best_eer(target_scores)"
   ]
  },
  {
   "cell_type": "code",
   "execution_count": 10,
   "metadata": {},
   "outputs": [],
   "source": [
    "def train(\n",
    "    model: nn.Module,\n",
    "    opt,\n",
    "    scheduler,\n",
    "    batch_size: int = 128,\n",
    "    epochs: int = 10,\n",
    "    train_fun = train_stage,\n",
    "):\n",
    "    train_losses = []\n",
    "    eval_scores = []\n",
    "    for epoch in range(epochs):\n",
    "        model.train()\n",
    "        train_losses.append(train_fun(model, opt, scheduler, batch_size=batch_size))\n",
    "        model.eval()\n",
    "        eval_scores.append(calc_eval_score(model, batch_size=batch_size))\n",
    "        clear_output()\n",
    "        fig, axis = plt.subplots(1, 2, figsize=(15, 7))\n",
    "        axis[0].plot(np.arange(1, epoch + 2), train_losses, label='train CE loss')\n",
    "        axis[1].plot(np.arange(1, epoch + 2), eval_scores, label='eval')\n",
    "        axis[0].set(xlabel='epoch', ylabel='CE Loss')\n",
    "        axis[1].set(xlabel='epoch', ylabel='EER')\n",
    "        fig.legend()\n",
    "        plt.show()\n",
    "        print(f'Epoch {epoch + 1}. Train loss {train_losses[-1]}. Eval score {eval_scores[-1]}')"
   ]
  },
  {
   "cell_type": "code",
   "execution_count": 11,
   "metadata": {},
   "outputs": [],
   "source": [
    "# model = Model(FEATS, trainset.speakers(), 128).to(DEVICE)\n",
    "# opt = optim.Adam(model.parameters())\n",
    "# train(model, opt)"
   ]
  },
  {
   "cell_type": "markdown",
   "metadata": {},
   "source": [
    "### ECAPA TDNN (10 points)\n",
    "\n",
    "Paper: https://arxiv.org/pdf/2005.07143.pdf\n",
    "\n",
    "Papers for ECAPA parts:\n",
    "- SE-Blocks - https://arxiv.org/pdf/1709.01507.pdf\n",
    "- Res2Net - https://arxiv.org/pdf/1904.01169.pdf\n",
    "- Attentive Stats Pooling - https://arxiv.org/pdf/1803.10963.pdf\n",
    "- AAM Softmax - https://arxiv.org/pdf/1906.07317.pdf\n",
    "\n",
    "Also you can optionally add other settings for paper:\n",
    "- SpecAug\n",
    "- Weight decay for optimizer\n",
    "- LR scheduler"
   ]
  },
  {
   "cell_type": "code",
   "execution_count": 12,
   "metadata": {},
   "outputs": [],
   "source": [
    "class SEBlock(nn.Module):\n",
    "    def __init__(self, input_shape: int, reduction: int):\n",
    "        super().__init__()\n",
    "        self.se = nn.Sequential(\n",
    "            nn.AdaptiveAvgPool1d(1),\n",
    "            nn.Conv1d(input_shape, input_shape // reduction, 1),\n",
    "            nn.ReLU(),\n",
    "            nn.Conv1d(input_shape // reduction, input_shape, 1),\n",
    "            nn.Sigmoid()\n",
    "        )\n",
    "\n",
    "    def __call__(self, X):\n",
    "        return self.se(X) * X"
   ]
  },
  {
   "cell_type": "code",
   "execution_count": 13,
   "metadata": {},
   "outputs": [
    {
     "data": {
      "text/plain": [
       "torch.Size([10, 128, 10])"
      ]
     },
     "execution_count": 13,
     "metadata": {},
     "output_type": "execute_result"
    }
   ],
   "source": [
    "b = SEBlock(128, 16)\n",
    "X = torch.randn(10, 128, 10)\n",
    "b(X).shape"
   ]
  },
  {
   "cell_type": "code",
   "execution_count": 14,
   "metadata": {},
   "outputs": [],
   "source": [
    "class Res2Net(nn.Module):\n",
    "    def __init__(self, hidden: int, dilation: int, scale: int=8):\n",
    "        super().__init__()\n",
    "        assert hidden % scale == 0\n",
    "        self.hidden = hidden\n",
    "        self.scale = scale\n",
    "        self.dconv3 = nn.ModuleList([\n",
    "            nn.Sequential(\n",
    "                nn.Conv1d(hidden // scale, hidden // scale, 3, dilation=dilation, padding='same'),\n",
    "                nn.ReLU(),\n",
    "                nn.BatchNorm1d(hidden // scale)\n",
    "            ) for _ in range(scale)\n",
    "        ])\n",
    "\n",
    "    def __call__(self, X):\n",
    "        split = torch.split(X, self.hidden // self.scale, dim=1)\n",
    "        split = [conv(x) for conv, x in zip(self.dconv3, split)]\n",
    "        out = torch.cat(split, dim=1)\n",
    "        return out"
   ]
  },
  {
   "cell_type": "code",
   "execution_count": 15,
   "metadata": {},
   "outputs": [
    {
     "data": {
      "text/plain": [
       "torch.Size([10, 128, 10])"
      ]
     },
     "execution_count": 15,
     "metadata": {},
     "output_type": "execute_result"
    }
   ],
   "source": [
    "b = Res2Net(128, 2)\n",
    "X = torch.randn(10, 128, 10)\n",
    "b(X).shape"
   ]
  },
  {
   "cell_type": "code",
   "execution_count": 16,
   "metadata": {},
   "outputs": [],
   "source": [
    "class EcapaBlock(nn.Module):\n",
    "    def __init__(self, hidden: int, dilation: int, scale: int=8):\n",
    "        super().__init__()\n",
    "        assert hidden % scale == 0\n",
    "        self.scale = scale\n",
    "        self.conv1 = nn.Sequential(\n",
    "            nn.Conv1d(hidden, hidden, 1),\n",
    "            nn.ReLU(),\n",
    "            nn.BatchNorm1d(hidden)\n",
    "        )\n",
    "        self.res2net = Res2Net(hidden, dilation, scale)\n",
    "        self.conv1_2 = nn.Sequential(\n",
    "            nn.Conv1d(hidden, hidden, 1),\n",
    "            nn.ReLU(),\n",
    "            nn.BatchNorm1d(hidden)\n",
    "        )\n",
    "        self.se = SEBlock(hidden, scale)\n",
    "\n",
    "    def __call__(self, X):\n",
    "        out = self.conv1(X)\n",
    "        out = self.res2net(out)\n",
    "        out = self.conv1_2(out)\n",
    "        out = self.se(out)\n",
    "        return out + X"
   ]
  },
  {
   "cell_type": "code",
   "execution_count": 17,
   "metadata": {},
   "outputs": [
    {
     "data": {
      "text/plain": [
       "torch.Size([10, 128, 10])"
      ]
     },
     "execution_count": 17,
     "metadata": {},
     "output_type": "execute_result"
    }
   ],
   "source": [
    "b = EcapaBlock(128, 2)\n",
    "x = torch.randn(10, 128, 10)\n",
    "b(x).shape"
   ]
  },
  {
   "cell_type": "code",
   "execution_count": 18,
   "metadata": {},
   "outputs": [],
   "source": [
    "class AttentiveStatsPooling(nn.Module):\n",
    "    def __init__(self, input_shape: int, hidden: int):\n",
    "        super().__init__()\n",
    "        self.attention = nn.Sequential(\n",
    "            nn.Conv1d(input_shape * 3, hidden, 1),\n",
    "            nn.Tanh(),\n",
    "            nn.Conv1d(hidden, 1, 1),\n",
    "            nn.Softmax(dim=-1)\n",
    "        )\n",
    "\n",
    "    def __call__(self, X):\n",
    "        # X shape = [time, feats]\n",
    "        # calc mean and std for X over time dimension\n",
    "        # concatenate mean and std to X over feats dimension to make shape [time, feats * 3]\n",
    "        # attention\n",
    "        # weighted mean and std with weights from attention for original X\n",
    "        \n",
    "        means = X.mean(dim=-1, keepdim=True) * torch.ones_like(X)\n",
    "        stds = X.std(dim=-1, keepdim=True) * torch.ones_like(X)\n",
    "        features = torch.cat([means, stds, X], dim=-2)\n",
    "        weights = self.attention(features)\n",
    "        mean = (weights * X).sum(dim=-1, keepdim=True)\n",
    "        std = ((weights * X * X).sum(dim=-1, keepdim=True) - mean * mean + 1e-5).sqrt()\n",
    "        return torch.cat([mean, std], dim=-2).squeeze(-1)"
   ]
  },
  {
   "cell_type": "code",
   "execution_count": 19,
   "metadata": {},
   "outputs": [
    {
     "data": {
      "text/plain": [
       "tensor([[ 2.2282,  1.0942,  3.1390,  0.2673,  1.2931, -2.4318,  1.9592, -2.5063,\n",
       "          3.1086,  1.4400, -0.5888,  1.8883, 12.7110,  7.9062,  9.3665, 11.4970,\n",
       "          5.5820,  9.7913,  6.4800,  8.3683,  9.8085, 12.0981,  8.9694,  6.9681],\n",
       "        [ 4.5046, -1.2530,  2.3399, -7.1912,  0.6739, -0.8988, -5.1389,  4.1349,\n",
       "          1.1622, -1.2468,  3.6495, -1.3103, 10.7162,  7.9380, 12.6600,  8.2469,\n",
       "          6.5766,  7.3908,  7.8170, 12.8584, 10.3017,  9.8840, 12.7186,  7.2131],\n",
       "        [-2.1234,  4.8726,  1.5123, -0.0554, -3.6877, -2.2178, -3.8339, -0.6339,\n",
       "         -7.7703, -1.6408, -7.3444,  4.1824, 11.1411, 11.5244,  8.6494, 11.4265,\n",
       "          8.7332,  6.7019, 13.9616,  6.0910,  7.6846,  9.8456,  9.1236, 10.9402],\n",
       "        [ 0.7296,  4.0194, -5.0168, -6.2912,  5.1038, -0.7300, -0.1517,  3.9757,\n",
       "         -4.0527,  3.7464, -1.8098, -0.4443,  7.8939,  7.7459,  6.5140,  6.4673,\n",
       "         11.1830,  5.1342,  9.8212,  5.2338,  9.5497,  9.2516,  6.3604, 13.0543],\n",
       "        [-3.7323, -2.1997, -3.1995, -1.6688,  4.2301, -1.4348,  2.1788, -1.0282,\n",
       "          2.6385,  1.1055, -1.3777,  3.6536, 11.6275, 13.6277, 13.7991, 10.2936,\n",
       "          7.1881, 11.6402,  8.0676,  6.0917,  5.7248, 10.2106,  6.6434, 10.8537],\n",
       "        [ 0.2378,  1.0402,  0.9286,  1.0188,  0.3287, -7.0890,  1.7303, -6.8746,\n",
       "         -0.8695, -1.2038, -3.5051, -1.4623, 11.7351,  6.6964,  7.9623,  5.8954,\n",
       "          8.3717,  8.3586,  7.5135,  7.9646,  9.1090, 11.4209, 11.3849, 11.7566],\n",
       "        [ 1.9917, -1.1956, -1.8293, -4.2915, -3.6425, -2.8405, -5.3585, -2.9939,\n",
       "         -3.2584, -0.8962, -1.4367, -4.6630,  7.1492,  5.5212,  7.9487,  5.9928,\n",
       "         12.6075,  6.1209,  7.0458, 10.6060,  9.7592,  7.2562,  6.8166,  7.8933],\n",
       "        [-5.4056,  0.8496,  0.3032, -5.4873,  3.6581, -2.1297,  7.7342, -3.9956,\n",
       "         -1.7755,  0.1128,  1.3398,  2.9133,  7.5499,  9.0991,  7.3686, 12.6955,\n",
       "          8.4950,  7.0405,  5.6435,  9.6539,  9.9858, 12.0557, 12.7344,  7.4738],\n",
       "        [-1.3460, -2.7501,  0.0811,  3.5565, -1.9340, -1.7446,  0.6608,  4.9430,\n",
       "         -0.3784, -2.2686, -2.7972,  4.4684, 10.5699, 12.0362,  8.2436,  7.6154,\n",
       "         14.2088, 10.6921,  7.4205,  9.0809,  8.1346, 12.5040,  7.0571,  9.7106],\n",
       "        [-3.2782, -2.3898,  4.5850, -3.1424,  1.2609, -2.9270, -2.7982, -2.7955,\n",
       "          1.6146, -0.1197,  1.7596,  4.3591,  6.8059, 11.8034,  9.2588, 10.8738,\n",
       "         11.3769,  7.9969, 10.9919,  7.5974,  9.5891, 12.6705, 13.6606, 11.0695]],\n",
       "       grad_fn=<SqueezeBackward1>)"
      ]
     },
     "execution_count": 19,
     "metadata": {},
     "output_type": "execute_result"
    }
   ],
   "source": [
    "b = AttentiveStatsPooling(12, 6)\n",
    "x = torch.randn(10, 12, 10) * -10\n",
    "b(x)"
   ]
  },
  {
   "cell_type": "code",
   "execution_count": 20,
   "metadata": {},
   "outputs": [],
   "source": [
    "class AAMSoftmax(nn.Module):\n",
    "    def __init__(self, input_shape, n_class, margin, scale):\n",
    "        super().__init__()\n",
    "        self.emb = nn.Embedding(n_class, input_shape, max_norm=1)\n",
    "        self.theta = nn.CosineSimilarity()\n",
    "        self.margin = margin\n",
    "        self.scale = scale\n",
    "\n",
    "    def forward(self, X):\n",
    "        # calc cosine similarity between X and weights\n",
    "        # theta = angle from cosine similarity\n",
    "        # return matrix S, where S_ij = \n",
    "        #     \\log \\frac{\n",
    "        #         \\exp{scale \\cos{theta_ij + margin}}\n",
    "        #     }{\n",
    "        #         \\exp{scale \\cos{theta_ij + margin}} + \\sum_{k != j} \\exp{scale \\cos{theta_ij}}\n",
    "        #     }\n",
    "        \n",
    "        theta = torch.acos(self.theta(X.unsqueeze(2), self.emb.weight.T.unsqueeze(0)))\n",
    "        S = torch.log(\n",
    "            torch.exp(self.scale * torch.cos(theta + self.margin)) /\n",
    "            (torch.exp(self.scale * torch.cos(theta + self.margin)) + torch.sum(torch.exp(self.scale * torch.cos(theta)), dim=1, keepdim=True) - torch.exp(self.scale * torch.cos(theta)))\n",
    "        )\n",
    "        return S"
   ]
  },
  {
   "cell_type": "code",
   "execution_count": 21,
   "metadata": {},
   "outputs": [
    {
     "data": {
      "text/plain": [
       "tensor([[ -6.6417, -10.7157,  -7.1133,  -8.2528, -11.1437, -16.0552, -16.3657,\n",
       "         -10.5274, -15.5672,  -6.8689],\n",
       "        [ -8.8107, -11.1842,  -8.9985,  -6.2134,  -9.5016,  -9.7002, -11.4299,\n",
       "         -12.6480,  -6.4342, -14.5273],\n",
       "        [-11.9802,  -6.0662,  -6.0430, -11.5494, -10.1349, -11.7554, -12.3895,\n",
       "         -13.4413, -10.9955, -11.7671],\n",
       "        [ -8.3309, -11.7246,  -8.9516,  -6.7012,  -8.9997,  -9.8271, -10.4275,\n",
       "          -9.3311,  -6.8334,  -7.9059],\n",
       "        [-11.5343, -14.7405, -10.9019,  -3.6700, -10.2541, -11.8913,  -8.7375,\n",
       "         -17.4228, -13.6730, -11.7620],\n",
       "        [ -7.2281, -13.6836, -13.3405, -14.9208, -11.0070,  -8.0637, -10.5895,\n",
       "          -5.3823, -12.0199, -14.1235],\n",
       "        [-10.4928,  -3.6280, -13.3382, -13.1193, -13.4255, -10.7424, -10.3830,\n",
       "          -8.8917, -13.9446, -14.0485],\n",
       "        [-10.0607,  -8.4074,  -9.6362, -10.0594,  -6.7882, -15.1492, -12.3727,\n",
       "          -9.0388, -11.0852,  -5.9991],\n",
       "        [-11.0959,  -2.5949, -10.1571, -11.6867, -16.0670, -13.0567, -11.5153,\n",
       "         -14.7701, -12.1063, -16.2021],\n",
       "        [-13.7731, -11.9323, -12.2590, -13.4755, -13.5597,  -5.6079,  -6.3684,\n",
       "         -13.9367, -12.8342, -13.3176]], grad_fn=<LogBackward0>)"
      ]
     },
     "execution_count": 21,
     "metadata": {},
     "output_type": "execute_result"
    }
   ],
   "source": [
    "b = AAMSoftmax(128, 10, 0.2, 30)\n",
    "x = torch.randn(10, 128)\n",
    "b(x)"
   ]
  },
  {
   "cell_type": "code",
   "execution_count": 22,
   "metadata": {},
   "outputs": [],
   "source": [
    "class EcapaTDNN(nn.Module):\n",
    "    def __init__(self, input_shape: int, output_shape: int, hidden: int, embedding_shape: int):\n",
    "        super().__init__()\n",
    "        self.conv1 = nn.Conv1d(input_shape, hidden, 5, padding='same')\n",
    "        self.relu = nn.ReLU()\n",
    "        self.bn = nn.BatchNorm1d(hidden)\n",
    "        self.block1 = EcapaBlock(hidden, 2)\n",
    "        self.block2 = EcapaBlock(hidden, 3)\n",
    "        self.block3 = EcapaBlock(hidden, 4)\n",
    "        self.conv1_2 = nn.Sequential(\n",
    "            nn.Conv1d(hidden * 3, hidden * 3, 1),\n",
    "            nn.ReLU(),\n",
    "        )\n",
    "        self.pool = AttentiveStatsPooling(hidden * 3, hidden)\n",
    "        self.bn1 = nn.BatchNorm1d(hidden * 6)\n",
    "        self.fc = nn.Linear(hidden * 6, embedding_shape)\n",
    "        self.bn2 = nn.BatchNorm1d(embedding_shape)\n",
    "        self.aam_sm = AAMSoftmax(embedding_shape, output_shape, 0.2, 30)\n",
    "            \n",
    "\n",
    "    def forward(self, X):\n",
    "        out = self.conv1(X)\n",
    "        out = self.relu(out)\n",
    "        out = self.bn(out)\n",
    "        b1 = self.block1(out)\n",
    "        b2 = self.block2(b1)\n",
    "        b3 = self.block3(b2)\n",
    "        out = self.conv1_2(torch.cat([b1, b2, b3], dim=1))\n",
    "        out = self.pool(out)\n",
    "        out = self.bn1(out)\n",
    "        out = self.fc(out)\n",
    "        out = self.bn2(out)\n",
    "        return self.aam_sm(out), out"
   ]
  },
  {
   "cell_type": "markdown",
   "metadata": {},
   "source": [
    "Train ECAPA model, at this point you can archive stable score (for several consecutive epochs) near 0.08 EER.\n",
    "\n",
    "You can train ECAPA with hidden size 256 to increase speed"
   ]
  },
  {
   "cell_type": "code",
   "execution_count": 23,
   "metadata": {},
   "outputs": [],
   "source": [
    "torch.cuda.empty_cache()\n",
    "model = EcapaTDNN(FEATS, trainset.speakers(), 256, 160).to(DEVICE)\n",
    "opt = optim.Adam(model.parameters(), weight_decay=2e-5)\n",
    "scheduler = torch.optim.lr_scheduler.CyclicLR(opt, base_lr=2e-5, max_lr=1e-2, mode=\"triangular2\")"
   ]
  },
  {
   "cell_type": "code",
   "execution_count": 24,
   "metadata": {},
   "outputs": [
    {
     "data": {
      "text/plain": [
       "(9004164, 314572800)"
      ]
     },
     "execution_count": 24,
     "metadata": {},
     "output_type": "execute_result"
    }
   ],
   "source": [
    "num = 0\n",
    "for param in model.parameters():\n",
    "    num += param.numel() * 4\n",
    "num, 256 * 6 * 800 * 64 * 4"
   ]
  },
  {
   "cell_type": "code",
   "execution_count": 25,
   "metadata": {},
   "outputs": [
    {
     "data": {
      "image/png": "[encoded data removed]",
      "text/plain": [
       "<Figure size 1500x700 with 2 Axes>"
      ]
     },
     "metadata": {},
     "output_type": "display_data"
    },
    {
     "name": "stdout",
     "output_type": "stream",
     "text": [
      "Epoch 3. Train loss 4.9872357831811005. Eval score 0.12435628456990273\n"
     ]
    },
    {
     "data": {
      "application/vnd.jupyter.widget-view+json": {
       "model_id": "97ca6c2840834821befd559430cb7aad",
       "version_major": 2,
       "version_minor": 0
      },
      "text/plain": [
       "  0%|          | 0/1060 [00:00<?, ?it/s]"
      ]
     },
     "metadata": {},
     "output_type": "display_data"
    },
    {
     "data": {
      "application/vnd.jupyter.widget-view+json": {
       "model_id": "52a6cf8efe50411d98a17819ca866a68",
       "version_major": 2,
       "version_minor": 0
      },
      "text/plain": [
       "  0%|          | 0/70 [00:00<?, ?it/s]"
      ]
     },
     "metadata": {},
     "output_type": "display_data"
    },
    {
     "ename": "KeyboardInterrupt",
     "evalue": "",
     "output_type": "error",
     "traceback": [
      "\u001b[1;31m---------------------------------------------------------------------------\u001b[0m",
      "\u001b[1;31mKeyboardInterrupt\u001b[0m                         Traceback (most recent call last)",
      "Cell \u001b[1;32mIn[25], line 1\u001b[0m\n\u001b[1;32m----> 1\u001b[0m \u001b[43mtrain\u001b[49m\u001b[43m(\u001b[49m\u001b[43mmodel\u001b[49m\u001b[43m,\u001b[49m\u001b[43m \u001b[49m\u001b[43mopt\u001b[49m\u001b[43m,\u001b[49m\u001b[43m \u001b[49m\u001b[43mscheduler\u001b[49m\u001b[43m,\u001b[49m\u001b[43m \u001b[49m\u001b[43mbatch_size\u001b[49m\u001b[38;5;241;43m=\u001b[39;49m\u001b[38;5;241;43m64\u001b[39;49m\u001b[43m,\u001b[49m\u001b[43m \u001b[49m\u001b[43mepochs\u001b[49m\u001b[38;5;241;43m=\u001b[39;49m\u001b[38;5;241;43m20\u001b[39;49m\u001b[43m)\u001b[49m\n",
      "Cell \u001b[1;32mIn[10], line 15\u001b[0m, in \u001b[0;36mtrain\u001b[1;34m(model, opt, scheduler, batch_size, epochs, train_fun)\u001b[0m\n\u001b[0;32m     13\u001b[0m train_losses\u001b[38;5;241m.\u001b[39mappend(train_fun(model, opt, scheduler, batch_size\u001b[38;5;241m=\u001b[39mbatch_size))\n\u001b[0;32m     14\u001b[0m model\u001b[38;5;241m.\u001b[39meval()\n\u001b[1;32m---> 15\u001b[0m eval_scores\u001b[38;5;241m.\u001b[39mappend(\u001b[43mcalc_eval_score\u001b[49m\u001b[43m(\u001b[49m\u001b[43mmodel\u001b[49m\u001b[43m,\u001b[49m\u001b[43m \u001b[49m\u001b[43mbatch_size\u001b[49m\u001b[38;5;241;43m=\u001b[39;49m\u001b[43mbatch_size\u001b[49m\u001b[43m)\u001b[49m)\n\u001b[0;32m     16\u001b[0m clear_output()\n\u001b[0;32m     17\u001b[0m fig, axis \u001b[38;5;241m=\u001b[39m plt\u001b[38;5;241m.\u001b[39msubplots(\u001b[38;5;241m1\u001b[39m, \u001b[38;5;241m2\u001b[39m, figsize\u001b[38;5;241m=\u001b[39m(\u001b[38;5;241m15\u001b[39m, \u001b[38;5;241m7\u001b[39m))\n",
      "Cell \u001b[1;32mIn[9], line 13\u001b[0m, in \u001b[0;36mcalc_eval_score\u001b[1;34m(model, batch_size)\u001b[0m\n\u001b[0;32m     11\u001b[0m \u001b[38;5;28;01mfor\u001b[39;00m X, _, pathes \u001b[38;5;129;01min\u001b[39;00m tqdm\u001b[38;5;241m.\u001b[39mtqdm(loader):\n\u001b[0;32m     12\u001b[0m     _, embds \u001b[38;5;241m=\u001b[39m model\u001b[38;5;241m.\u001b[39mforward(X\u001b[38;5;241m.\u001b[39mto(DEVICE))\n\u001b[1;32m---> 13\u001b[0m     embds \u001b[38;5;241m=\u001b[39m \u001b[43membds\u001b[49m\u001b[38;5;241;43m.\u001b[39;49m\u001b[43mcpu\u001b[49m\u001b[43m(\u001b[49m\u001b[43m)\u001b[49m\u001b[38;5;241m.\u001b[39mdata\u001b[38;5;241m.\u001b[39mnumpy()\u001b[38;5;241m.\u001b[39mreshape(X\u001b[38;5;241m.\u001b[39mshape[\u001b[38;5;241m0\u001b[39m], \u001b[38;5;241m-\u001b[39m\u001b[38;5;241m1\u001b[39m)\n\u001b[0;32m     14\u001b[0m     \u001b[38;5;28;01mfor\u001b[39;00m embd, path \u001b[38;5;129;01min\u001b[39;00m \u001b[38;5;28mzip\u001b[39m(embds, pathes):\n\u001b[0;32m     15\u001b[0m         items[path] \u001b[38;5;241m=\u001b[39m embd\n",
      "\u001b[1;31mKeyboardInterrupt\u001b[0m: "
     ]
    }
   ],
   "source": [
    "train(model, opt, scheduler, batch_size=64, epochs=20)"
   ]
  },
  {
   "cell_type": "code",
   "execution_count": null,
   "metadata": {},
   "outputs": [],
   "source": [
    "torch.save(model, 'model0.pt')"
   ]
  },
  {
   "cell_type": "markdown",
   "metadata": {},
   "source": [
    "### Contrastive losses (10 points)\n",
    "\n",
    "You can use anyone constrative loss.\n",
    "Good article with contrastive losses https://lilianweng.github.io/posts/2021-05-31-contrastive/\n",
    "\n",
    "Base losses:\n",
    "- contrastive\n",
    "- triplet -- it gives a better quality usually\n",
    "- lifted structured loss -- better batch data utilization\n",
    "\n",
    "The main problem with contrastive loss is the positive pairs sampler.\n",
    "This is because a large number of classes provided only once per batch\n",
    "in case of large number of classes in the dataset."
   ]
  },
  {
   "cell_type": "code",
   "execution_count": null,
   "metadata": {},
   "outputs": [],
   "source": [
    "class PositivePairsSampler(torch.utils.data.Sampler):\n",
    "    def __init__(self, speakers: list[int], batch_size: int):\n",
    "        pass\n",
    "        # <YOUR CODE IS HERE>\n",
    "\n",
    "    def __len__(self):\n",
    "        pass\n",
    "        # <YOUR CODE IS HERE>\n",
    "\n",
    "    def __iter__(self):\n",
    "        # yield __len__ batches as list of indexes of samples from dataset\n",
    "        # <YOUR CODE IS HERE>\n",
    "        for _ in range(len(self)):\n",
    "            indexes = []\n",
    "            # <YOUR CODE IS HERE>\n",
    "            yield indexes"
   ]
  },
  {
   "cell_type": "code",
   "execution_count": null,
   "metadata": {},
   "outputs": [],
   "source": [
    "def contrastive_train_stage(model, opt, batch_size: int = 256):\n",
    "    # You can use any contrastive loss here to improve training\n",
    "    # You can combine contrastive loss with the NLL loss after AAM softmax to improve stability\n",
    "    loader = torch_data.DataLoader(\n",
    "        trainset,\n",
    "        collate_fn=dataset.collate_fn,\n",
    "        num_workers=LOADER_WORKERS,\n",
    "        batch_sampler=PositivePairsSampler(trainset._speakers, batch_size)\n",
    "    )\n",
    "    # <YOUR CODE IS HERE>"
   ]
  },
  {
   "cell_type": "markdown",
   "metadata": {},
   "source": [
    "Train model with contrastive loss here. At this point you can archive EER near 0.06-0.07 (it should be at least on 0.005 to 0.01 better than before)"
   ]
  },
  {
   "cell_type": "code",
   "execution_count": null,
   "metadata": {},
   "outputs": [],
   "source": [
    "# model = torch.load('model.pt').to(DEVICE)\n",
    "# opt = optim.Adam(model.parameters())\n",
    "# train(model, opt, batch_size=128, train_fun=contrastive_train_stage)"
   ]
  }
 ],
 "metadata": {
  "kernelspec": {
   "display_name": "Python 3",
   "language": "python",
   "name": "python3"
  },
  "language_info": {
   "codemirror_mode": {
    "name": "ipython",
    "version": 3
   },
   "file_extension": ".py",
   "mimetype": "text/x-python",
   "name": "python",
   "nbconvert_exporter": "python",
   "pygments_lexer": "ipython3",
   "version": "3.10.7"
  }
 },
 "nbformat": 4,
 "nbformat_minor": 4
}
