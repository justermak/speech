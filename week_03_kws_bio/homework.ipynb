{
 "cells": [
  {
   "cell_type": "markdown",
   "metadata": {},
   "source": [
    "# Homework (Week 3) -- Biometrics (20 points)\n",
    "\n",
    "In this homework we train Biometrics Verification model and use some features to increase quality:\n",
    "1) Train ECAPA-TDNN (10 points)\n",
    "2) Any contrastive loss (10 points)\n",
    "\n",
    "Link to download dataset: https://disk.yandex.ru/d/lyhtieYbxQOYqw"
   ]
  },
  {
   "cell_type": "code",
   "execution_count": 1,
   "metadata": {},
   "outputs": [],
   "source": [
    "import os\n",
    "\n",
    "import matplotlib.pyplot as plt\n",
    "import numpy as np\n",
    "import pandas as pd\n",
    "import requests\n",
    "import torch\n",
    "import torch.nn as nn\n",
    "import torch.nn.functional as F\n",
    "import torch.optim as optim\n",
    "import torch.utils.data as torch_data\n",
    "import torchaudio\n",
    "import tqdm.notebook as tqdm\n",
    "import urllib\n",
    "\n",
    "import dataset\n",
    "\n",
    "from IPython.display import clear_output\n",
    "\n",
    "%matplotlib inline"
   ]
  },
  {
   "cell_type": "code",
   "execution_count": 2,
   "metadata": {},
   "outputs": [],
   "source": [
    "# base_url = 'https://cloud-api.yandex.net/v1/disk/public/resources/download?'\n",
    "# public_key = 'https://disk.yandex.ru/d/lyhtieYbxQOYqw'\n",
    "# final_url = base_url + urllib.parse.urlencode(dict(public_key=public_key))\n",
    "# response = requests.get(final_url)\n",
    "# download_url = response.json()['href']\n",
    "# !wget -O voxceleb.tar.gz \"{download_url}\"\n",
    "# !tar -xf voxceleb.tar.gz"
   ]
  },
  {
   "cell_type": "markdown",
   "metadata": {},
   "source": [
    "### Some model train example"
   ]
  },
  {
   "cell_type": "code",
   "execution_count": 3,
   "metadata": {},
   "outputs": [],
   "source": [
    "DEVICE = 'cuda' # \"cpu\" for cpu, also you can use \"cuda\" for gpu and \"mps\" for apple silicon\n",
    "DATADIR = '../data'\n",
    "FEATS = 80\n",
    "LOADER_WORKERS = 8"
   ]
  },
  {
   "cell_type": "code",
   "execution_count": 4,
   "metadata": {},
   "outputs": [
    {
     "name": "stderr",
     "output_type": "stream",
     "text": [
      "c:\\Users\\andre\\AppData\\Local\\Python\\Python310\\lib\\site-packages\\torchaudio\\functional\\functional.py:584: UserWarning: At least one mel filterbank has all zero values. The value for `n_mels` (128) may be set too high. Or, the value for `n_freqs` (201) may be set too low.\n",
      "  warnings.warn(\n"
     ]
    }
   ],
   "source": [
    "train_transform = nn.Sequential(\n",
    "    torchaudio.transforms.MFCC(n_mfcc=FEATS),\n",
    "    # torchaudio.transforms.TimeMasking(10),\n",
    "    # torchaudio.transforms.FrequencyMasking(10),\n",
    ")\n",
    "test_transform = torchaudio.transforms.MFCC(n_mfcc=FEATS)\n",
    "trainset = dataset.Dataset(os.path.join(DATADIR, 'voxceleb_train'), train_transform)\n",
    "testset = dataset.Dataset(os.path.join(DATADIR, 'voxceleb_test'), test_transform)\n",
    "test_targets = pd.read_csv(os.path.join(DATADIR, 'target.csv')).values.tolist()"
   ]
  },
  {
   "cell_type": "markdown",
   "metadata": {},
   "source": [
    "### Models"
   ]
  },
  {
   "cell_type": "code",
   "execution_count": 5,
   "metadata": {},
   "outputs": [],
   "source": [
    "# class Model(nn.Module):\n",
    "#     def __init__(self, input_shape: int, output_shape: int, hidden: int, kernel: int = 7, sride: int = 2):\n",
    "#         super().__init__()\n",
    "#         self._emb = nn.Sequential(\n",
    "#             nn.Conv1d(input_shape, hidden, kernel, stride=sride),\n",
    "#             nn.ReLU(),\n",
    "#             nn.Conv1d(hidden, hidden, kernel, stride=sride),\n",
    "#             nn.ReLU(),\n",
    "#             nn.Conv1d(hidden, hidden, kernel, stride=sride),\n",
    "#             nn.AdaptiveMaxPool1d(1),\n",
    "#         )\n",
    "#         self._final = nn.Sequential(\n",
    "#             nn.Linear(hidden, output_shape),\n",
    "#             nn.LogSoftmax(dim=-1)\n",
    "#         )\n",
    "\n",
    "#     def forward(self, X) -> tuple[torch.Tensor, torch.Tensor]:\n",
    "#         emb = self._emb(X).squeeze(2)\n",
    "#         return self._final(emb), emb"
   ]
  },
  {
   "cell_type": "markdown",
   "metadata": {},
   "source": [
    "### Metrics\n",
    "\n",
    "Cosine similarity:\n",
    "$CS(a, b) = \\frac{<a, b>}{\\|a\\| \\|b\\|}$"
   ]
  },
  {
   "cell_type": "code",
   "execution_count": 6,
   "metadata": {},
   "outputs": [],
   "source": [
    "def cosine_similarity(a, b):\n",
    "    a = a.reshape(-1)\n",
    "    b = b.reshape(-1)\n",
    "    return np.dot(a, b) / np.linalg.norm(a) / np.linalg.norm(b)"
   ]
  },
  {
   "cell_type": "markdown",
   "metadata": {},
   "source": [
    "Here is O(N log N) algorithm for find best_eer:\n",
    "1) Sort prediction by probability\n",
    "2) Going through items and recalculating far and frr"
   ]
  },
  {
   "cell_type": "code",
   "execution_count": 7,
   "metadata": {},
   "outputs": [],
   "source": [
    "def best_eer(data):\n",
    "    full = sorted(data, key=lambda x: (x[0], -x[1]))\n",
    "    pos = len([item for item in full if item[1] == 1])\n",
    "    neg = len(full) - pos\n",
    "    cur_pos = pos\n",
    "    cur_neg = 0\n",
    "    best_eer = 1\n",
    "    for _, label in full:\n",
    "        if label == 1:\n",
    "            cur_pos -= 1\n",
    "        else:\n",
    "            cur_neg += 1\n",
    "        cur_eer = max((pos - cur_pos) / pos, (neg - cur_neg) / neg)\n",
    "        best_eer = min(best_eer, cur_eer)\n",
    "    return best_eer"
   ]
  },
  {
   "cell_type": "markdown",
   "metadata": {},
   "source": [
    "### Train"
   ]
  },
  {
   "cell_type": "code",
   "execution_count": 8,
   "metadata": {},
   "outputs": [],
   "source": [
    "def train_stage(model, opt, scheduler, batch_size: int = 32):\n",
    "    loader = torch_data.DataLoader(\n",
    "        trainset,\n",
    "        shuffle=True,\n",
    "        batch_size=batch_size,\n",
    "        collate_fn=dataset.collate_fn,\n",
    "        num_workers=LOADER_WORKERS,\n",
    "    )\n",
    "    loss_sum = 0.0\n",
    "    batches = 0\n",
    "    i = 0\n",
    "    for X, Y, _ in tqdm.tqdm(loader):\n",
    "        logits, _ = model.forward(X.to(DEVICE))\n",
    "        loss = F.nll_loss(logits, Y.to(DEVICE))\n",
    "        loss_sum += loss.item()\n",
    "        batches += 1\n",
    "        loss.backward()\n",
    "        if (i + 1) % 4 == 0:\n",
    "            opt.step()\n",
    "            scheduler.step()\n",
    "            opt.zero_grad()\n",
    "        i += 1\n",
    "    return loss_sum / batches"
   ]
  },
  {
   "cell_type": "code",
   "execution_count": 9,
   "metadata": {},
   "outputs": [],
   "source": [
    "def calc_eval_score(model: nn.Module, batch_size: int = 256):\n",
    "    loader = torch_data.DataLoader(\n",
    "        testset,\n",
    "        batch_size=batch_size,\n",
    "        collate_fn=dataset.collate_fn,\n",
    "        num_workers=LOADER_WORKERS,\n",
    "    )\n",
    "    items = {}\n",
    "    target_scores = []\n",
    "    with torch.no_grad():\n",
    "        for X, _, pathes in tqdm.tqdm(loader):\n",
    "            _, embds = model.forward(X.to(DEVICE))\n",
    "            embds = embds.cpu().data.numpy().reshape(X.shape[0], -1)\n",
    "            for embd, path in zip(embds, pathes):\n",
    "                items[path] = embd\n",
    "    for item1, item2, target in test_targets:\n",
    "        item1 = item1.replace('/', '\\\\') # windows is cringe\n",
    "        item2 = item2.replace('/', '\\\\') # windows is cringe x2\n",
    "        target_scores.append((cosine_similarity(items[item1], items[item2]), target))\n",
    "    return best_eer(target_scores)"
   ]
  },
  {
   "cell_type": "code",
   "execution_count": 10,
   "metadata": {},
   "outputs": [],
   "source": [
    "def train(\n",
    "    model: nn.Module,\n",
    "    opt,\n",
    "    scheduler,\n",
    "    batch_size: int = 32,\n",
    "    epochs: int = 10,\n",
    "    train_fun = train_stage,\n",
    "):\n",
    "    train_losses = []\n",
    "    eval_scores = []\n",
    "    for epoch in range(epochs):\n",
    "        model.train()\n",
    "        train_losses.append(train_fun(model, opt, scheduler, batch_size=batch_size))\n",
    "        \n",
    "        model.eval()\n",
    "        eval_scores.append(calc_eval_score(model, batch_size=batch_size))\n",
    "        clear_output()\n",
    "        fig, axis = plt.subplots(1, 2, figsize=(15, 7))\n",
    "        axis[0].plot(np.arange(1, epoch + 2), train_losses, label='train CE loss')\n",
    "        axis[0].set(xlabel='epoch', ylabel='CE Loss')\n",
    "    \n",
    "        axis[1].plot(np.arange(1, epoch + 2), eval_scores, label='eval')\n",
    "        axis[1].set(xlabel='epoch', ylabel='EER')\n",
    "        fig.legend()\n",
    "        plt.show()\n",
    "        print(f'Epoch {epoch + 1}. Train loss {train_losses[-1]}. Eval score {eval_scores[-1]}')"
   ]
  },
  {
   "cell_type": "code",
   "execution_count": 11,
   "metadata": {},
   "outputs": [],
   "source": [
    "# model = Model(FEATS, trainset.speakers(), 128).to(DEVICE)\n",
    "# opt = optim.Adam(model.parameters())\n",
    "# train(model, opt)"
   ]
  },
  {
   "cell_type": "markdown",
   "metadata": {},
   "source": [
    "### ECAPA TDNN (10 points)\n",
    "\n",
    "Paper: https://arxiv.org/pdf/2005.07143.pdf\n",
    "\n",
    "Papers for ECAPA parts:\n",
    "- SE-Blocks - https://arxiv.org/pdf/1709.01507.pdf\n",
    "- Res2Net - https://arxiv.org/pdf/1904.01169.pdf\n",
    "- Attentive Stats Pooling - https://arxiv.org/pdf/1803.10963.pdf\n",
    "- AAM Softmax - https://arxiv.org/pdf/1906.07317.pdf\n",
    "\n",
    "Also you can optionally add other settings for paper:\n",
    "- SpecAug\n",
    "- Weight decay for optimizer\n",
    "- LR scheduler"
   ]
  },
  {
   "cell_type": "code",
   "execution_count": 12,
   "metadata": {},
   "outputs": [],
   "source": [
    "class SEBlock(nn.Module):\n",
    "    def __init__(self, input_shape: int, reduction: int):\n",
    "        super().__init__()\n",
    "        self.se = nn.Sequential(\n",
    "            nn.AdaptiveAvgPool1d(1),\n",
    "            nn.Conv1d(input_shape, input_shape // reduction, 1),\n",
    "            nn.ReLU(),\n",
    "            nn.Conv1d(input_shape // reduction, input_shape, 1),\n",
    "            nn.Sigmoid()\n",
    "        )\n",
    "\n",
    "    def __call__(self, X):\n",
    "        return self.se(X) * X"
   ]
  },
  {
   "cell_type": "code",
   "execution_count": 13,
   "metadata": {},
   "outputs": [
    {
     "data": {
      "text/plain": [
       "torch.Size([10, 128, 10])"
      ]
     },
     "execution_count": 13,
     "metadata": {},
     "output_type": "execute_result"
    }
   ],
   "source": [
    "b = SEBlock(128, 16)\n",
    "X = torch.randn(10, 128, 10)\n",
    "b(X).shape"
   ]
  },
  {
   "cell_type": "code",
   "execution_count": 14,
   "metadata": {},
   "outputs": [],
   "source": [
    "class Res2Net(nn.Module):\n",
    "    def __init__(self, hidden: int, dilation: int, scale: int=8):\n",
    "        super().__init__()\n",
    "        assert hidden % scale == 0\n",
    "        self.hidden = hidden\n",
    "        self.scale = scale\n",
    "        self.dconv3 = nn.ModuleList([\n",
    "            nn.Sequential(\n",
    "                nn.Conv1d(hidden // scale, hidden // scale, 3, dilation=dilation, padding='same'),\n",
    "                nn.ReLU(),\n",
    "                nn.BatchNorm1d(hidden // scale)\n",
    "            ) for _ in range(scale)\n",
    "        ])\n",
    "\n",
    "    def __call__(self, X):\n",
    "        split = torch.split(X, self.hidden // self.scale, dim=1)\n",
    "        split = [conv(x) for conv, x in zip(self.dconv3, split)]\n",
    "        out = torch.cat(split, dim=1)\n",
    "        return out"
   ]
  },
  {
   "cell_type": "code",
   "execution_count": 15,
   "metadata": {},
   "outputs": [
    {
     "data": {
      "text/plain": [
       "torch.Size([10, 128, 10])"
      ]
     },
     "execution_count": 15,
     "metadata": {},
     "output_type": "execute_result"
    }
   ],
   "source": [
    "b = Res2Net(128, 2)\n",
    "X = torch.randn(10, 128, 10)\n",
    "b(X).shape"
   ]
  },
  {
   "cell_type": "code",
   "execution_count": 16,
   "metadata": {},
   "outputs": [],
   "source": [
    "class EcapaBlock(nn.Module):\n",
    "    def __init__(self, hidden: int, dilation: int, scale: int=8):\n",
    "        super().__init__()\n",
    "        assert hidden % scale == 0\n",
    "        self.scale = scale\n",
    "        self.conv1 = nn.Sequential(\n",
    "            nn.Conv1d(hidden, hidden, 1),\n",
    "            nn.ReLU(),\n",
    "            nn.BatchNorm1d(hidden)\n",
    "        )\n",
    "        self.res2net = Res2Net(hidden, dilation, scale)\n",
    "        self.conv1_2 = nn.Sequential(\n",
    "            nn.Conv1d(hidden, hidden, 1),\n",
    "            nn.ReLU(),\n",
    "            nn.BatchNorm1d(hidden)\n",
    "        )\n",
    "        self.se = SEBlock(hidden, scale)\n",
    "\n",
    "    def __call__(self, X):\n",
    "        out = self.conv1(X)\n",
    "        out = self.res2net(out)\n",
    "        out = self.conv1_2(out)\n",
    "        out = self.se(out)\n",
    "        return out + X"
   ]
  },
  {
   "cell_type": "code",
   "execution_count": 17,
   "metadata": {},
   "outputs": [
    {
     "data": {
      "text/plain": [
       "torch.Size([10, 128, 10])"
      ]
     },
     "execution_count": 17,
     "metadata": {},
     "output_type": "execute_result"
    }
   ],
   "source": [
    "b = EcapaBlock(128, 2)\n",
    "x = torch.randn(10, 128, 10)\n",
    "b(x).shape"
   ]
  },
  {
   "cell_type": "code",
   "execution_count": 18,
   "metadata": {},
   "outputs": [],
   "source": [
    "class AttentiveStatsPooling(nn.Module):\n",
    "    def __init__(self, input_shape: int, hidden: int):\n",
    "        super().__init__()\n",
    "        self.attention = nn.Sequential(\n",
    "            nn.Conv1d(input_shape * 3, hidden, 1),\n",
    "            nn.Tanh(),\n",
    "            nn.Conv1d(hidden, 1, 1),\n",
    "            nn.Softmax(dim=-1)\n",
    "        )\n",
    "\n",
    "    def __call__(self, X):\n",
    "        # X shape = [time, feats]\n",
    "        # calc mean and std for X over time dimension\n",
    "        # concatenate mean and std to X over feats dimension to make shape [time, feats * 3]\n",
    "        # attention\n",
    "        # weighted mean and std with weights from attention for original X\n",
    "        \n",
    "        means = X.mean(dim=-1, keepdim=True) * torch.ones_like(X)\n",
    "        stds = X.std(dim=-1, keepdim=True) * torch.ones_like(X)\n",
    "        features = torch.cat([means, stds, X], dim=-2)\n",
    "        weights = self.attention(features)\n",
    "        mean = (weights * X).sum(dim=-1, keepdim=True)\n",
    "        std = ((weights * X * X).sum(dim=-1, keepdim=True) - mean * mean + 1e-5).sqrt()\n",
    "        return torch.cat([mean, std], dim=-2).squeeze(-1)"
   ]
  },
  {
   "cell_type": "code",
   "execution_count": 19,
   "metadata": {},
   "outputs": [
    {
     "data": {
      "text/plain": [
       "tensor([[ 6.6536e+00,  5.9152e+00, -3.6226e+00, -2.1261e+00, -7.6340e+00,\n",
       "          2.4891e+00, -6.0967e+00,  3.8034e-01,  3.6055e-01,  3.6353e+00,\n",
       "         -1.4687e+00,  1.0973e+00,  1.0869e+01,  9.6953e+00,  9.4925e+00,\n",
       "          9.5407e+00,  8.6853e+00,  1.0268e+01,  6.2653e+00,  1.0849e+01,\n",
       "          7.5544e+00,  6.7990e+00,  8.6921e+00,  8.7302e+00],\n",
       "        [ 8.3064e-01, -1.3538e+00, -7.5505e+00, -5.5487e+00, -2.6887e-01,\n",
       "         -7.9378e+00, -4.5483e-01, -2.1605e+00,  8.8248e+00, -5.5592e-01,\n",
       "          2.8720e+00, -5.4973e+00,  1.0776e+01,  1.0888e+01,  6.3402e+00,\n",
       "          1.0170e+01,  1.0694e+01,  7.7288e+00,  8.6547e+00,  9.8982e+00,\n",
       "          1.0892e+01,  3.1806e+00,  9.9687e+00,  5.1868e+00],\n",
       "        [-1.5809e+00,  8.8868e+00,  2.4897e+00,  2.2863e+00,  1.1140e+00,\n",
       "          3.5438e+00,  1.6368e+00,  1.2423e+00, -4.9613e+00, -1.5333e-01,\n",
       "         -1.9147e+00,  1.2995e+00,  9.7003e+00,  9.3914e+00,  1.1934e+01,\n",
       "          9.7183e+00,  1.2247e+01,  8.4260e+00,  7.2929e+00,  8.9852e+00,\n",
       "          7.5215e+00,  6.7991e+00,  9.1891e+00,  5.9746e+00],\n",
       "        [ 1.2312e+00,  8.1025e-01,  1.4708e+00,  7.1907e+00, -5.8548e+00,\n",
       "         -3.1438e+00, -3.6381e+00, -1.4825e+00, -3.6905e+00, -1.2690e+00,\n",
       "         -1.5229e+00, -5.4106e+00,  1.1415e+01,  1.0132e+01,  6.3881e+00,\n",
       "          9.9533e+00,  7.8566e+00,  9.4664e+00,  1.2422e+01,  1.0388e+01,\n",
       "          8.9095e+00,  1.4233e+01,  1.0252e+01,  1.2724e+01],\n",
       "        [-4.6113e+00, -1.6033e+00, -1.0305e+00,  5.7300e+00,  4.0340e+00,\n",
       "         -2.3050e-01, -8.6503e+00,  8.7327e-02,  2.6750e+00,  2.7807e+00,\n",
       "          4.3284e+00,  2.3074e+00,  1.2857e+01,  6.8144e+00,  6.0826e+00,\n",
       "          6.6872e+00,  5.8597e+00,  5.8486e+00,  9.4986e+00,  4.6802e+00,\n",
       "          9.1994e+00,  6.7627e+00,  1.0915e+01,  6.5456e+00],\n",
       "        [-5.3347e+00, -4.0703e+00, -6.8338e-01,  4.7949e+00,  3.0834e-01,\n",
       "          9.6631e-01, -2.9944e+00,  3.9859e+00,  3.5292e+00, -1.5556e+00,\n",
       "          1.6223e+00, -1.1837e+00,  5.6601e+00,  7.1926e+00,  1.0238e+01,\n",
       "          8.7329e+00,  7.6113e+00,  6.2795e+00,  8.4986e+00,  7.8910e+00,\n",
       "          9.4901e+00,  1.5040e+01,  9.4981e+00,  9.7034e+00],\n",
       "        [ 2.4737e+00,  1.9909e+00,  1.0826e+00,  2.2585e+00, -2.7388e+00,\n",
       "          7.6491e-01,  6.0323e+00,  1.1137e+00,  1.0596e+01, -2.9769e+00,\n",
       "         -1.4224e+00, -6.5698e-01,  5.7886e+00,  9.2195e+00,  5.2260e+00,\n",
       "          9.0315e+00,  1.2256e+01,  7.8199e+00,  8.8578e+00,  5.4559e+00,\n",
       "          1.1828e+01,  1.1855e+01,  1.1021e+01,  5.4044e+00],\n",
       "        [-2.1292e+00, -5.9196e-01,  2.4405e+00,  6.6773e+00, -4.2970e+00,\n",
       "         -3.5127e+00, -7.4902e-02, -1.7015e+00,  4.7167e+00, -4.7600e+00,\n",
       "         -1.6186e+00, -4.3748e+00,  7.8396e+00,  1.2511e+01,  1.0418e+01,\n",
       "          8.6311e+00,  8.7507e+00,  9.6082e+00,  9.5233e+00,  6.2023e+00,\n",
       "          5.7200e+00,  9.6571e+00,  6.3017e+00,  1.1114e+01],\n",
       "        [-6.1423e+00,  8.1995e-01,  3.4336e+00,  5.1417e-03, -1.0749e+00,\n",
       "          1.0537e+00, -1.1370e-01, -8.4911e-01,  1.6418e+00,  3.4287e-01,\n",
       "         -3.1544e+00,  1.5602e+00,  7.9322e+00,  7.8197e+00,  7.0285e+00,\n",
       "          7.1173e+00,  5.3953e+00,  8.6712e+00,  1.1399e+01,  1.5542e+01,\n",
       "          8.0342e+00,  1.0487e+01,  9.4625e+00,  1.0320e+01],\n",
       "        [-1.0216e-02,  3.4191e+00, -4.3623e+00,  4.2923e-01,  5.1034e+00,\n",
       "          1.7658e+00, -5.1557e+00,  4.8074e+00, -1.6546e+00,  2.1125e+00,\n",
       "          9.2858e-01,  3.2525e+00,  1.0862e+01,  6.4767e+00,  6.1627e+00,\n",
       "          1.3849e+01,  7.5092e+00,  1.0541e+01,  8.3349e+00,  9.0679e+00,\n",
       "          4.2166e+00,  8.0029e+00,  1.3931e+01,  8.7745e+00]],\n",
       "       grad_fn=<SqueezeBackward1>)"
      ]
     },
     "execution_count": 19,
     "metadata": {},
     "output_type": "execute_result"
    }
   ],
   "source": [
    "b = AttentiveStatsPooling(12, 6)\n",
    "x = torch.randn(10, 12, 10) * -10\n",
    "b(x)"
   ]
  },
  {
   "cell_type": "code",
   "execution_count": 20,
   "metadata": {},
   "outputs": [],
   "source": [
    "class AAMSoftmax(nn.Module):\n",
    "    def __init__(self, input_shape, n_class, margin, scale):\n",
    "        super().__init__()\n",
    "        self.emb = nn.Embedding(n_class, input_shape, max_norm=1)\n",
    "        self.theta = nn.CosineSimilarity()\n",
    "        self.margin = margin\n",
    "        self.scale = scale\n",
    "\n",
    "    def forward(self, X):\n",
    "        # calc cosine similarity between X and weights\n",
    "        # theta = angle from cosine similarity\n",
    "        # return matrix S, where S_ij = \n",
    "        #     \\log \\frac{\n",
    "        #         \\exp{scale \\cos{theta_ij + margin}}\n",
    "        #     }{\n",
    "        #         \\exp{scale \\cos{theta_ij + margin}} + \\sum_{k != j} \\exp{scale \\cos{theta_ij}}\n",
    "        #     }\n",
    "        \n",
    "        theta = torch.acos(self.theta(X.unsqueeze(2), self.emb.weight.T.unsqueeze(0)))\n",
    "        S = torch.log(\n",
    "            torch.exp(self.scale * torch.cos(theta + self.margin)) /\n",
    "            (torch.exp(self.scale * torch.cos(theta + self.margin)) + torch.sum(torch.exp(self.scale * torch.cos(theta)), dim=1, keepdim=True) - torch.exp(self.scale * torch.cos(theta)))\n",
    "        )\n",
    "        return S"
   ]
  },
  {
   "cell_type": "code",
   "execution_count": 21,
   "metadata": {},
   "outputs": [
    {
     "data": {
      "text/plain": [
       "tensor([[ -8.0715, -10.8181,  -5.8154, -10.4713, -12.4669, -10.1200, -12.2225,\n",
       "          -6.7858, -11.2043, -12.0875],\n",
       "        [ -5.1081,  -9.9891, -11.2252,  -7.4785,  -9.5597, -10.4493, -11.9912,\n",
       "         -12.8229, -11.7363,  -9.0960],\n",
       "        [-11.7375, -14.0239,  -2.1667, -14.7877, -13.6384, -16.4621, -11.0912,\n",
       "         -13.5289, -10.5784, -14.7320],\n",
       "        [-14.2263, -13.5780,  -7.3093, -11.8477, -12.7734, -16.3002,  -5.1578,\n",
       "          -8.8525,  -9.4697, -11.3346],\n",
       "        [-10.9958, -16.3771,  -8.4261, -11.0402,  -9.8127, -10.9826,  -4.3955,\n",
       "         -10.2800,  -9.4303, -11.4841],\n",
       "        [ -9.5727, -14.9544,  -4.3860, -10.7746, -11.9505, -10.8218,  -8.1231,\n",
       "         -10.9900, -10.5845, -15.5693],\n",
       "        [-12.3367, -12.0513, -14.0570, -11.0848, -12.4040, -13.6859,  -8.8491,\n",
       "         -12.5322, -11.6454,  -3.4239],\n",
       "        [ -8.8988,  -6.5334,  -7.9703, -10.3709,  -9.7687,  -8.8104,  -6.8917,\n",
       "          -8.6054,  -9.6282, -13.0748],\n",
       "        [ -9.1365, -11.6024, -11.4743, -13.6553,  -7.4237, -15.0829, -13.0049,\n",
       "         -13.0185,  -4.8542, -13.0575],\n",
       "        [ -9.0452,  -8.5522, -11.9435,  -9.7777, -14.1473,  -4.4420, -12.1289,\n",
       "         -11.2143, -11.4132,  -9.7317]], grad_fn=<LogBackward0>)"
      ]
     },
     "execution_count": 21,
     "metadata": {},
     "output_type": "execute_result"
    }
   ],
   "source": [
    "b = AAMSoftmax(128, 10, 0.2, 30)\n",
    "x = torch.randn(10, 128)\n",
    "b(x)"
   ]
  },
  {
   "cell_type": "code",
   "execution_count": 22,
   "metadata": {},
   "outputs": [],
   "source": [
    "class EcapaTDNN(nn.Module):\n",
    "    def __init__(self, input_shape: int, output_shape: int, hidden: int, embedding_shape: int):\n",
    "        super().__init__()\n",
    "        self.conv1 = nn.Conv1d(input_shape, hidden, 5, padding='same')\n",
    "        self.relu = nn.ReLU()\n",
    "        self.bn = nn.BatchNorm1d(hidden)\n",
    "        self.block1 = EcapaBlock(hidden, 2)\n",
    "        self.block2 = EcapaBlock(hidden, 3)\n",
    "        self.block3 = EcapaBlock(hidden, 4)\n",
    "        self.conv1_2 = nn.Sequential(\n",
    "            nn.Conv1d(hidden * 3, hidden * 3, 1),\n",
    "            nn.ReLU(),\n",
    "        )\n",
    "        self.pool = AttentiveStatsPooling(hidden * 3, hidden)\n",
    "        self.bn1 = nn.BatchNorm1d(hidden * 6)\n",
    "        self.fc = nn.Linear(hidden * 6, embedding_shape)\n",
    "        self.bn2 = nn.BatchNorm1d(embedding_shape)\n",
    "        self.aam_sm = AAMSoftmax(embedding_shape, output_shape, 0.2, 30)\n",
    "            \n",
    "\n",
    "    def forward(self, X):\n",
    "        out = self.conv1(X)\n",
    "        out = self.relu(out)\n",
    "        out = self.bn(out)\n",
    "        b1 = self.block1(out)\n",
    "        b2 = self.block2(b1)\n",
    "        b3 = self.block3(b2)\n",
    "        out = self.conv1_2(torch.cat([b1, b2, b3], dim=1))\n",
    "        out = self.pool(out)\n",
    "        out = self.bn1(out)\n",
    "        out = self.fc(out)\n",
    "        out = self.bn2(out)\n",
    "        return self.aam_sm(out), out"
   ]
  },
  {
   "cell_type": "markdown",
   "metadata": {},
   "source": [
    "Train ECAPA model, at this point you can archive stable score (for several consecutive epochs) near 0.08 EER.\n",
    "\n",
    "You can train ECAPA with hidden size 256 to increase speed"
   ]
  },
  {
   "cell_type": "code",
   "execution_count": 23,
   "metadata": {},
   "outputs": [],
   "source": [
    "model = EcapaTDNN(FEATS, trainset.speakers(), 256, 300).to(DEVICE)\n",
    "opt = optim.Adam(model.parameters(), lr=3e-4, weight_decay=1e-8)\n",
    "scheduler = torch.optim.lr_scheduler.CyclicLR(opt, base_lr=3e-4, max_lr=1e-1, mode=\"triangular2\", step_size_up=500)"
   ]
  },
  {
   "cell_type": "code",
   "execution_count": 24,
   "metadata": {},
   "outputs": [
    {
     "name": "stdout",
     "output_type": "stream",
     "text": [
      "model weight: 10544164, batch weight: 157286400\n"
     ]
    }
   ],
   "source": [
    "num = 0\n",
    "for param in model.parameters():\n",
    "    num += param.numel() * 4\n",
    "print(f\"model weight: {num}, batch weight: {256 * 6 * 800 * 32 * 4}\")"
   ]
  },
  {
   "cell_type": "code",
   "execution_count": 25,
   "metadata": {},
   "outputs": [
    {
     "data": {
      "image/png": "[encoded data removed]",
      "text/plain": [
       "<Figure size 1500x700 with 2 Axes>"
      ]
     },
     "metadata": {},
     "output_type": "display_data"
    },
    {
     "name": "stdout",
     "output_type": "stream",
     "text": [
      "Epoch 1. Train loss 10.833275627111027. Eval score 0.21024858541547461\n"
     ]
    },
    {
     "data": {
      "application/vnd.jupyter.widget-view+json": {
       "model_id": "710f41767eba413b91be96e38a022a32",
       "version_major": 2,
       "version_minor": 0
      },
      "text/plain": [
       "  0%|          | 0/2119 [00:00<?, ?it/s]"
      ]
     },
     "metadata": {},
     "output_type": "display_data"
    },
    {
     "data": {
      "application/vnd.jupyter.widget-view+json": {
       "model_id": "26fe00254b0d42898d50057daad9977a",
       "version_major": 2,
       "version_minor": 0
      },
      "text/plain": [
       "  0%|          | 0/140 [00:00<?, ?it/s]"
      ]
     },
     "metadata": {},
     "output_type": "display_data"
    },
    {
     "ename": "KeyboardInterrupt",
     "evalue": "",
     "output_type": "error",
     "traceback": [
      "\u001b[1;31m---------------------------------------------------------------------------\u001b[0m",
      "\u001b[1;31mKeyboardInterrupt\u001b[0m                         Traceback (most recent call last)",
      "Cell \u001b[1;32mIn[25], line 1\u001b[0m\n\u001b[1;32m----> 1\u001b[0m \u001b[43mtrain\u001b[49m\u001b[43m(\u001b[49m\u001b[43mmodel\u001b[49m\u001b[43m,\u001b[49m\u001b[43m \u001b[49m\u001b[43mopt\u001b[49m\u001b[43m,\u001b[49m\u001b[43m \u001b[49m\u001b[43mscheduler\u001b[49m\u001b[43m)\u001b[49m\n",
      "Cell \u001b[1;32mIn[10], line 16\u001b[0m, in \u001b[0;36mtrain\u001b[1;34m(model, opt, scheduler, batch_size, epochs, train_fun)\u001b[0m\n\u001b[0;32m     13\u001b[0m train_losses\u001b[38;5;241m.\u001b[39mappend(train_fun(model, opt, scheduler, batch_size\u001b[38;5;241m=\u001b[39mbatch_size))\n\u001b[0;32m     15\u001b[0m model\u001b[38;5;241m.\u001b[39meval()\n\u001b[1;32m---> 16\u001b[0m eval_scores\u001b[38;5;241m.\u001b[39mappend(\u001b[43mcalc_eval_score\u001b[49m\u001b[43m(\u001b[49m\u001b[43mmodel\u001b[49m\u001b[43m,\u001b[49m\u001b[43m \u001b[49m\u001b[43mbatch_size\u001b[49m\u001b[38;5;241;43m=\u001b[39;49m\u001b[43mbatch_size\u001b[49m\u001b[43m)\u001b[49m)\n\u001b[0;32m     17\u001b[0m clear_output()\n\u001b[0;32m     18\u001b[0m fig, axis \u001b[38;5;241m=\u001b[39m plt\u001b[38;5;241m.\u001b[39msubplots(\u001b[38;5;241m1\u001b[39m, \u001b[38;5;241m2\u001b[39m, figsize\u001b[38;5;241m=\u001b[39m(\u001b[38;5;241m15\u001b[39m, \u001b[38;5;241m7\u001b[39m))\n",
      "Cell \u001b[1;32mIn[9], line 12\u001b[0m, in \u001b[0;36mcalc_eval_score\u001b[1;34m(model, batch_size)\u001b[0m\n\u001b[0;32m     10\u001b[0m \u001b[38;5;28;01mwith\u001b[39;00m torch\u001b[38;5;241m.\u001b[39mno_grad():\n\u001b[0;32m     11\u001b[0m     \u001b[38;5;28;01mfor\u001b[39;00m X, _, pathes \u001b[38;5;129;01min\u001b[39;00m tqdm\u001b[38;5;241m.\u001b[39mtqdm(loader):\n\u001b[1;32m---> 12\u001b[0m         _, embds \u001b[38;5;241m=\u001b[39m \u001b[43mmodel\u001b[49m\u001b[38;5;241;43m.\u001b[39;49m\u001b[43mforward\u001b[49m\u001b[43m(\u001b[49m\u001b[43mX\u001b[49m\u001b[38;5;241;43m.\u001b[39;49m\u001b[43mto\u001b[49m\u001b[43m(\u001b[49m\u001b[43mDEVICE\u001b[49m\u001b[43m)\u001b[49m\u001b[43m)\u001b[49m\n\u001b[0;32m     13\u001b[0m         embds \u001b[38;5;241m=\u001b[39m embds\u001b[38;5;241m.\u001b[39mcpu()\u001b[38;5;241m.\u001b[39mdata\u001b[38;5;241m.\u001b[39mnumpy()\u001b[38;5;241m.\u001b[39mreshape(X\u001b[38;5;241m.\u001b[39mshape[\u001b[38;5;241m0\u001b[39m], \u001b[38;5;241m-\u001b[39m\u001b[38;5;241m1\u001b[39m)\n\u001b[0;32m     14\u001b[0m         \u001b[38;5;28;01mfor\u001b[39;00m embd, path \u001b[38;5;129;01min\u001b[39;00m \u001b[38;5;28mzip\u001b[39m(embds, pathes):\n",
      "Cell \u001b[1;32mIn[22], line 26\u001b[0m, in \u001b[0;36mEcapaTDNN.forward\u001b[1;34m(self, X)\u001b[0m\n\u001b[0;32m     24\u001b[0m out \u001b[38;5;241m=\u001b[39m \u001b[38;5;28mself\u001b[39m\u001b[38;5;241m.\u001b[39mbn(out)\n\u001b[0;32m     25\u001b[0m b1 \u001b[38;5;241m=\u001b[39m \u001b[38;5;28mself\u001b[39m\u001b[38;5;241m.\u001b[39mblock1(out)\n\u001b[1;32m---> 26\u001b[0m b2 \u001b[38;5;241m=\u001b[39m \u001b[38;5;28;43mself\u001b[39;49m\u001b[38;5;241;43m.\u001b[39;49m\u001b[43mblock2\u001b[49m\u001b[43m(\u001b[49m\u001b[43mb1\u001b[49m\u001b[43m)\u001b[49m\n\u001b[0;32m     27\u001b[0m b3 \u001b[38;5;241m=\u001b[39m \u001b[38;5;28mself\u001b[39m\u001b[38;5;241m.\u001b[39mblock3(b2)\n\u001b[0;32m     28\u001b[0m out \u001b[38;5;241m=\u001b[39m \u001b[38;5;28mself\u001b[39m\u001b[38;5;241m.\u001b[39mconv1_2(torch\u001b[38;5;241m.\u001b[39mcat([b1, b2, b3], dim\u001b[38;5;241m=\u001b[39m\u001b[38;5;241m1\u001b[39m))\n",
      "Cell \u001b[1;32mIn[16], line 21\u001b[0m, in \u001b[0;36mEcapaBlock.__call__\u001b[1;34m(self, X)\u001b[0m\n\u001b[0;32m     19\u001b[0m \u001b[38;5;28;01mdef\u001b[39;00m \u001b[38;5;21m__call__\u001b[39m(\u001b[38;5;28mself\u001b[39m, X):\n\u001b[0;32m     20\u001b[0m     out \u001b[38;5;241m=\u001b[39m \u001b[38;5;28mself\u001b[39m\u001b[38;5;241m.\u001b[39mconv1(X)\n\u001b[1;32m---> 21\u001b[0m     out \u001b[38;5;241m=\u001b[39m \u001b[38;5;28;43mself\u001b[39;49m\u001b[38;5;241;43m.\u001b[39;49m\u001b[43mres2net\u001b[49m\u001b[43m(\u001b[49m\u001b[43mout\u001b[49m\u001b[43m)\u001b[49m\n\u001b[0;32m     22\u001b[0m     out \u001b[38;5;241m=\u001b[39m \u001b[38;5;28mself\u001b[39m\u001b[38;5;241m.\u001b[39mconv1_2(out)\n\u001b[0;32m     23\u001b[0m     out \u001b[38;5;241m=\u001b[39m \u001b[38;5;28mself\u001b[39m\u001b[38;5;241m.\u001b[39mse(out)\n",
      "Cell \u001b[1;32mIn[14], line 17\u001b[0m, in \u001b[0;36mRes2Net.__call__\u001b[1;34m(self, X)\u001b[0m\n\u001b[0;32m     15\u001b[0m \u001b[38;5;28;01mdef\u001b[39;00m \u001b[38;5;21m__call__\u001b[39m(\u001b[38;5;28mself\u001b[39m, X):\n\u001b[0;32m     16\u001b[0m     split \u001b[38;5;241m=\u001b[39m torch\u001b[38;5;241m.\u001b[39msplit(X, \u001b[38;5;28mself\u001b[39m\u001b[38;5;241m.\u001b[39mhidden \u001b[38;5;241m/\u001b[39m\u001b[38;5;241m/\u001b[39m \u001b[38;5;28mself\u001b[39m\u001b[38;5;241m.\u001b[39mscale, dim\u001b[38;5;241m=\u001b[39m\u001b[38;5;241m1\u001b[39m)\n\u001b[1;32m---> 17\u001b[0m     split \u001b[38;5;241m=\u001b[39m [conv(x) \u001b[38;5;28;01mfor\u001b[39;00m conv, x \u001b[38;5;129;01min\u001b[39;00m \u001b[38;5;28mzip\u001b[39m(\u001b[38;5;28mself\u001b[39m\u001b[38;5;241m.\u001b[39mdconv3, split)]\n\u001b[0;32m     18\u001b[0m     out \u001b[38;5;241m=\u001b[39m torch\u001b[38;5;241m.\u001b[39mcat(split, dim\u001b[38;5;241m=\u001b[39m\u001b[38;5;241m1\u001b[39m)\n\u001b[0;32m     19\u001b[0m     \u001b[38;5;28;01mreturn\u001b[39;00m out\n",
      "Cell \u001b[1;32mIn[14], line 17\u001b[0m, in \u001b[0;36m<listcomp>\u001b[1;34m(.0)\u001b[0m\n\u001b[0;32m     15\u001b[0m \u001b[38;5;28;01mdef\u001b[39;00m \u001b[38;5;21m__call__\u001b[39m(\u001b[38;5;28mself\u001b[39m, X):\n\u001b[0;32m     16\u001b[0m     split \u001b[38;5;241m=\u001b[39m torch\u001b[38;5;241m.\u001b[39msplit(X, \u001b[38;5;28mself\u001b[39m\u001b[38;5;241m.\u001b[39mhidden \u001b[38;5;241m/\u001b[39m\u001b[38;5;241m/\u001b[39m \u001b[38;5;28mself\u001b[39m\u001b[38;5;241m.\u001b[39mscale, dim\u001b[38;5;241m=\u001b[39m\u001b[38;5;241m1\u001b[39m)\n\u001b[1;32m---> 17\u001b[0m     split \u001b[38;5;241m=\u001b[39m [\u001b[43mconv\u001b[49m\u001b[43m(\u001b[49m\u001b[43mx\u001b[49m\u001b[43m)\u001b[49m \u001b[38;5;28;01mfor\u001b[39;00m conv, x \u001b[38;5;129;01min\u001b[39;00m \u001b[38;5;28mzip\u001b[39m(\u001b[38;5;28mself\u001b[39m\u001b[38;5;241m.\u001b[39mdconv3, split)]\n\u001b[0;32m     18\u001b[0m     out \u001b[38;5;241m=\u001b[39m torch\u001b[38;5;241m.\u001b[39mcat(split, dim\u001b[38;5;241m=\u001b[39m\u001b[38;5;241m1\u001b[39m)\n\u001b[0;32m     19\u001b[0m     \u001b[38;5;28;01mreturn\u001b[39;00m out\n",
      "File \u001b[1;32mc:\\Users\\andre\\AppData\\Local\\Python\\Python310\\lib\\site-packages\\torch\\nn\\modules\\module.py:1736\u001b[0m, in \u001b[0;36mModule._wrapped_call_impl\u001b[1;34m(self, *args, **kwargs)\u001b[0m\n\u001b[0;32m   1734\u001b[0m     \u001b[38;5;28;01mreturn\u001b[39;00m \u001b[38;5;28mself\u001b[39m\u001b[38;5;241m.\u001b[39m_compiled_call_impl(\u001b[38;5;241m*\u001b[39margs, \u001b[38;5;241m*\u001b[39m\u001b[38;5;241m*\u001b[39mkwargs)  \u001b[38;5;66;03m# type: ignore[misc]\u001b[39;00m\n\u001b[0;32m   1735\u001b[0m \u001b[38;5;28;01melse\u001b[39;00m:\n\u001b[1;32m-> 1736\u001b[0m     \u001b[38;5;28;01mreturn\u001b[39;00m \u001b[38;5;28mself\u001b[39m\u001b[38;5;241m.\u001b[39m_call_impl(\u001b[38;5;241m*\u001b[39margs, \u001b[38;5;241m*\u001b[39m\u001b[38;5;241m*\u001b[39mkwargs)\n",
      "File \u001b[1;32mc:\\Users\\andre\\AppData\\Local\\Python\\Python310\\lib\\site-packages\\torch\\nn\\modules\\module.py:1747\u001b[0m, in \u001b[0;36mModule._call_impl\u001b[1;34m(self, *args, **kwargs)\u001b[0m\n\u001b[0;32m   1742\u001b[0m \u001b[38;5;66;03m# If we don't have any hooks, we want to skip the rest of the logic in\u001b[39;00m\n\u001b[0;32m   1743\u001b[0m \u001b[38;5;66;03m# this function, and just call forward.\u001b[39;00m\n\u001b[0;32m   1744\u001b[0m \u001b[38;5;28;01mif\u001b[39;00m \u001b[38;5;129;01mnot\u001b[39;00m (\u001b[38;5;28mself\u001b[39m\u001b[38;5;241m.\u001b[39m_backward_hooks \u001b[38;5;129;01mor\u001b[39;00m \u001b[38;5;28mself\u001b[39m\u001b[38;5;241m.\u001b[39m_backward_pre_hooks \u001b[38;5;129;01mor\u001b[39;00m \u001b[38;5;28mself\u001b[39m\u001b[38;5;241m.\u001b[39m_forward_hooks \u001b[38;5;129;01mor\u001b[39;00m \u001b[38;5;28mself\u001b[39m\u001b[38;5;241m.\u001b[39m_forward_pre_hooks\n\u001b[0;32m   1745\u001b[0m         \u001b[38;5;129;01mor\u001b[39;00m _global_backward_pre_hooks \u001b[38;5;129;01mor\u001b[39;00m _global_backward_hooks\n\u001b[0;32m   1746\u001b[0m         \u001b[38;5;129;01mor\u001b[39;00m _global_forward_hooks \u001b[38;5;129;01mor\u001b[39;00m _global_forward_pre_hooks):\n\u001b[1;32m-> 1747\u001b[0m     \u001b[38;5;28;01mreturn\u001b[39;00m forward_call(\u001b[38;5;241m*\u001b[39margs, \u001b[38;5;241m*\u001b[39m\u001b[38;5;241m*\u001b[39mkwargs)\n\u001b[0;32m   1749\u001b[0m result \u001b[38;5;241m=\u001b[39m \u001b[38;5;28;01mNone\u001b[39;00m\n\u001b[0;32m   1750\u001b[0m called_always_called_hooks \u001b[38;5;241m=\u001b[39m \u001b[38;5;28mset\u001b[39m()\n",
      "File \u001b[1;32mc:\\Users\\andre\\AppData\\Local\\Python\\Python310\\lib\\site-packages\\torch\\nn\\modules\\container.py:250\u001b[0m, in \u001b[0;36mSequential.forward\u001b[1;34m(self, input)\u001b[0m\n\u001b[0;32m    248\u001b[0m \u001b[38;5;28;01mdef\u001b[39;00m \u001b[38;5;21mforward\u001b[39m(\u001b[38;5;28mself\u001b[39m, \u001b[38;5;28minput\u001b[39m):\n\u001b[0;32m    249\u001b[0m     \u001b[38;5;28;01mfor\u001b[39;00m module \u001b[38;5;129;01min\u001b[39;00m \u001b[38;5;28mself\u001b[39m:\n\u001b[1;32m--> 250\u001b[0m         \u001b[38;5;28minput\u001b[39m \u001b[38;5;241m=\u001b[39m \u001b[43mmodule\u001b[49m\u001b[43m(\u001b[49m\u001b[38;5;28;43minput\u001b[39;49m\u001b[43m)\u001b[49m\n\u001b[0;32m    251\u001b[0m     \u001b[38;5;28;01mreturn\u001b[39;00m \u001b[38;5;28minput\u001b[39m\n",
      "File \u001b[1;32mc:\\Users\\andre\\AppData\\Local\\Python\\Python310\\lib\\site-packages\\torch\\nn\\modules\\module.py:1736\u001b[0m, in \u001b[0;36mModule._wrapped_call_impl\u001b[1;34m(self, *args, **kwargs)\u001b[0m\n\u001b[0;32m   1734\u001b[0m     \u001b[38;5;28;01mreturn\u001b[39;00m \u001b[38;5;28mself\u001b[39m\u001b[38;5;241m.\u001b[39m_compiled_call_impl(\u001b[38;5;241m*\u001b[39margs, \u001b[38;5;241m*\u001b[39m\u001b[38;5;241m*\u001b[39mkwargs)  \u001b[38;5;66;03m# type: ignore[misc]\u001b[39;00m\n\u001b[0;32m   1735\u001b[0m \u001b[38;5;28;01melse\u001b[39;00m:\n\u001b[1;32m-> 1736\u001b[0m     \u001b[38;5;28;01mreturn\u001b[39;00m \u001b[38;5;28mself\u001b[39m\u001b[38;5;241m.\u001b[39m_call_impl(\u001b[38;5;241m*\u001b[39margs, \u001b[38;5;241m*\u001b[39m\u001b[38;5;241m*\u001b[39mkwargs)\n",
      "File \u001b[1;32mc:\\Users\\andre\\AppData\\Local\\Python\\Python310\\lib\\site-packages\\torch\\nn\\modules\\module.py:1747\u001b[0m, in \u001b[0;36mModule._call_impl\u001b[1;34m(self, *args, **kwargs)\u001b[0m\n\u001b[0;32m   1742\u001b[0m \u001b[38;5;66;03m# If we don't have any hooks, we want to skip the rest of the logic in\u001b[39;00m\n\u001b[0;32m   1743\u001b[0m \u001b[38;5;66;03m# this function, and just call forward.\u001b[39;00m\n\u001b[0;32m   1744\u001b[0m \u001b[38;5;28;01mif\u001b[39;00m \u001b[38;5;129;01mnot\u001b[39;00m (\u001b[38;5;28mself\u001b[39m\u001b[38;5;241m.\u001b[39m_backward_hooks \u001b[38;5;129;01mor\u001b[39;00m \u001b[38;5;28mself\u001b[39m\u001b[38;5;241m.\u001b[39m_backward_pre_hooks \u001b[38;5;129;01mor\u001b[39;00m \u001b[38;5;28mself\u001b[39m\u001b[38;5;241m.\u001b[39m_forward_hooks \u001b[38;5;129;01mor\u001b[39;00m \u001b[38;5;28mself\u001b[39m\u001b[38;5;241m.\u001b[39m_forward_pre_hooks\n\u001b[0;32m   1745\u001b[0m         \u001b[38;5;129;01mor\u001b[39;00m _global_backward_pre_hooks \u001b[38;5;129;01mor\u001b[39;00m _global_backward_hooks\n\u001b[0;32m   1746\u001b[0m         \u001b[38;5;129;01mor\u001b[39;00m _global_forward_hooks \u001b[38;5;129;01mor\u001b[39;00m _global_forward_pre_hooks):\n\u001b[1;32m-> 1747\u001b[0m     \u001b[38;5;28;01mreturn\u001b[39;00m forward_call(\u001b[38;5;241m*\u001b[39margs, \u001b[38;5;241m*\u001b[39m\u001b[38;5;241m*\u001b[39mkwargs)\n\u001b[0;32m   1749\u001b[0m result \u001b[38;5;241m=\u001b[39m \u001b[38;5;28;01mNone\u001b[39;00m\n\u001b[0;32m   1750\u001b[0m called_always_called_hooks \u001b[38;5;241m=\u001b[39m \u001b[38;5;28mset\u001b[39m()\n",
      "File \u001b[1;32mc:\\Users\\andre\\AppData\\Local\\Python\\Python310\\lib\\site-packages\\torch\\nn\\modules\\activation.py:133\u001b[0m, in \u001b[0;36mReLU.forward\u001b[1;34m(self, input)\u001b[0m\n\u001b[0;32m    132\u001b[0m \u001b[38;5;28;01mdef\u001b[39;00m \u001b[38;5;21mforward\u001b[39m(\u001b[38;5;28mself\u001b[39m, \u001b[38;5;28minput\u001b[39m: Tensor) \u001b[38;5;241m-\u001b[39m\u001b[38;5;241m>\u001b[39m Tensor:\n\u001b[1;32m--> 133\u001b[0m     \u001b[38;5;28;01mreturn\u001b[39;00m \u001b[43mF\u001b[49m\u001b[38;5;241;43m.\u001b[39;49m\u001b[43mrelu\u001b[49m\u001b[43m(\u001b[49m\u001b[38;5;28;43minput\u001b[39;49m\u001b[43m,\u001b[49m\u001b[43m \u001b[49m\u001b[43minplace\u001b[49m\u001b[38;5;241;43m=\u001b[39;49m\u001b[38;5;28;43mself\u001b[39;49m\u001b[38;5;241;43m.\u001b[39;49m\u001b[43minplace\u001b[49m\u001b[43m)\u001b[49m\n",
      "File \u001b[1;32mc:\\Users\\andre\\AppData\\Local\\Python\\Python310\\lib\\site-packages\\torch\\nn\\functional.py:1704\u001b[0m, in \u001b[0;36mrelu\u001b[1;34m(input, inplace)\u001b[0m\n\u001b[0;32m   1702\u001b[0m     result \u001b[38;5;241m=\u001b[39m torch\u001b[38;5;241m.\u001b[39mrelu_(\u001b[38;5;28minput\u001b[39m)\n\u001b[0;32m   1703\u001b[0m \u001b[38;5;28;01melse\u001b[39;00m:\n\u001b[1;32m-> 1704\u001b[0m     result \u001b[38;5;241m=\u001b[39m \u001b[43mtorch\u001b[49m\u001b[38;5;241;43m.\u001b[39;49m\u001b[43mrelu\u001b[49m\u001b[43m(\u001b[49m\u001b[38;5;28;43minput\u001b[39;49m\u001b[43m)\u001b[49m\n\u001b[0;32m   1705\u001b[0m \u001b[38;5;28;01mreturn\u001b[39;00m result\n",
      "\u001b[1;31mKeyboardInterrupt\u001b[0m: "
     ]
    }
   ],
   "source": [
    "train(model, opt, scheduler)"
   ]
  },
  {
   "cell_type": "code",
   "execution_count": null,
   "metadata": {},
   "outputs": [],
   "source": [
    "torch.save(model, 'model0.pt')"
   ]
  },
  {
   "cell_type": "markdown",
   "metadata": {},
   "source": [
    "### Contrastive losses (10 points)\n",
    "\n",
    "You can use anyone constrative loss.\n",
    "Good article with contrastive losses https://lilianweng.github.io/posts/2021-05-31-contrastive/\n",
    "\n",
    "Base losses:\n",
    "- contrastive\n",
    "- triplet -- it gives a better quality usually\n",
    "- lifted structured loss -- better batch data utilization\n",
    "\n",
    "The main problem with contrastive loss is the positive pairs sampler.\n",
    "This is because a large number of classes provided only once per batch\n",
    "in case of large number of classes in the dataset."
   ]
  },
  {
   "cell_type": "code",
   "execution_count": null,
   "metadata": {},
   "outputs": [],
   "source": [
    "class PositivePairsSampler(torch.utils.data.Sampler):\n",
    "    def __init__(self, speakers: list[int], batch_size: int):\n",
    "        self.len = len(speakers) // batch_size // 2 * 2 * batch_size\n",
    "        self.batch_size = batch_size\n",
    "        idxs = torch.randperm(self.len // 2)\n",
    "        self.pos = [x.item() for xs in zip(2 * idxs[::2], 2 * idxs[::2] + 1) for x in xs]\n",
    "        self.rand = (2 * idxs[1::2]).tolist() + (2 * idxs[1::2] + 1).tolist()\n",
    "        self.idx = []\n",
    "        for i in range(len(self)):\n",
    "            self.idx += self.pos[i * self.batch_size // 2: (i + 1) * self.batch_size // 2] + self.rand[i * self.batch_size // 2: (i + 1) * self.batch_size // 2]\n",
    "        \n",
    "\n",
    "    def __len__(self):\n",
    "        return (self.len + self.batch_size - 1) // self.batch_size\n",
    "\n",
    "    def __iter__(self):\n",
    "        # yield __len__ batches as list of indexes of samples from dataset\n",
    "        for batch in torch.chunk(torch.tensor(self.idx), len(self)):\n",
    "            yield batch.tolist()\n",
    "            "
   ]
  },
  {
   "cell_type": "code",
   "execution_count": null,
   "metadata": {},
   "outputs": [
    {
     "name": "stdout",
     "output_type": "stream",
     "text": [
      "tensor([ 906,  906,  260,  260,  817,  817,  186,  186,  616,  810,  681, 1065,\n",
      "         488,  235,  278,  481])\n",
      "tensor([1070, 1070,  225,  225,  422,  422,  693,  693,  834, 1066,  452,  157,\n",
      "         219,  584, 1150,  873])\n",
      "tensor([ 879,  879,   53,   53,  234,  234,  158,  158,  952,  990, 1092,  310,\n",
      "         924,  297,  802, 1003])\n"
     ]
    }
   ],
   "source": [
    "loader = torch_data.DataLoader(\n",
    "        trainset,\n",
    "        collate_fn=dataset.collate_fn,\n",
    "        num_workers=LOADER_WORKERS,\n",
    "        batch_sampler=PositivePairsSampler(trainset._speakers, 16)\n",
    "    )\n",
    "it = iter(loader)\n",
    "for _ in range(3):\n",
    "    _, Y, _ = next(it)\n",
    "    print(Y)"
   ]
  },
  {
   "cell_type": "code",
   "execution_count": null,
   "metadata": {},
   "outputs": [],
   "source": [
    "def contrastive_train_stage(model, opt, scheduler, batch_size: int = 32, lam = .2, eps = 1.47):\n",
    "    # You can use any contrastive loss here to improve training\n",
    "    # You can combine contrastive loss with the NLL loss after AAM softmax to improve stability\n",
    "    loader = torch_data.DataLoader(\n",
    "        trainset,\n",
    "        collate_fn=dataset.collate_fn,\n",
    "        num_workers=LOADER_WORKERS,\n",
    "        batch_sampler=PositivePairsSampler(trainset._speakers, batch_size)\n",
    "    )\n",
    "    loss_sum = 0.0\n",
    "    batches = 0\n",
    "    i = 0\n",
    "    for X, Y, _ in tqdm.tqdm(loader):\n",
    "        logits, embeddings = model.forward(X.to(DEVICE))\n",
    "        y = Y.to(DEVICE)\n",
    "        loss1 = F.nll_loss(logits, y)\n",
    "        pos = y[::2] == y[1::2]\n",
    "        embeddings = embeddings / torch.linalg.vector_norm(embeddings, dim=-1).unsqueeze(-1)\n",
    "        norm = torch.linalg.vector_norm(embeddings[::2] - embeddings[1::2], dim=-1)\n",
    "        loss2 = (pos * norm + (~pos) * torch.max(torch.tensor(0), eps - norm)).mean()\n",
    "        loss = loss1 + lam * loss2\n",
    "        loss_sum += loss.item()\n",
    "        batches += 1\n",
    "        loss.backward()\n",
    "        if (i + 1) % 4 == 0:\n",
    "            opt.step()\n",
    "            scheduler.step()\n",
    "            opt.zero_grad()\n",
    "        i += 1\n",
    "    return loss_sum / batches\n",
    "  "
   ]
  },
  {
   "cell_type": "markdown",
   "metadata": {},
   "source": [
    "Train model with contrastive loss here. At this point you can archive EER near 0.06-0.07 (it should be at least on 0.005 to 0.01 better than before)"
   ]
  },
  {
   "cell_type": "code",
   "execution_count": null,
   "metadata": {},
   "outputs": [
    {
     "name": "stderr",
     "output_type": "stream",
     "text": [
      "C:\\Users\\andre\\AppData\\Local\\Temp\\ipykernel_16792\\675746989.py:1: FutureWarning: You are using `torch.load` with `weights_only=False` (the current default value), which uses the default pickle module implicitly. It is possible to construct malicious pickle data which will execute arbitrary code during unpickling (See https://github.com/pytorch/pytorch/blob/main/SECURITY.md#untrusted-models for more details). In a future release, the default value for `weights_only` will be flipped to `True`. This limits the functions that could be executed during unpickling. Arbitrary objects will no longer be allowed to be loaded via this mode unless they are explicitly allowlisted by the user via `torch.serialization.add_safe_globals`. We recommend you start setting `weights_only=True` for any use case where you don't have full control of the loaded file. Please open an issue on GitHub for any issues related to this experimental feature.\n",
      "  model = torch.load('model0.pt').to(DEVICE)\n"
     ]
    }
   ],
   "source": [
    "model = torch.load('model0.pt').to(DEVICE)\n",
    "opt = optim.Adam(model.parameters(), lr = 2e-5, weight_decay=1e-8)\n",
    "scheduler = torch.optim.lr_scheduler.CyclicLR(opt, base_lr=2e-5, max_lr=1e-1, mode=\"triangular2\", step_size_up=500)"
   ]
  },
  {
   "cell_type": "code",
   "execution_count": null,
   "metadata": {},
   "outputs": [
    {
     "data": {
      "application/vnd.jupyter.widget-view+json": {
       "model_id": "79c8749304b240829233eebbcff6e241",
       "version_major": 2,
       "version_minor": 0
      },
      "text/plain": [
       "  0%|          | 0/2118 [00:00<?, ?it/s]"
      ]
     },
     "metadata": {},
     "output_type": "display_data"
    },
    {
     "ename": "KeyboardInterrupt",
     "evalue": "",
     "output_type": "error",
     "traceback": [
      "\u001b[1;31m---------------------------------------------------------------------------\u001b[0m",
      "\u001b[1;31mKeyboardInterrupt\u001b[0m                         Traceback (most recent call last)",
      "Cell \u001b[1;32mIn[31], line 1\u001b[0m\n\u001b[1;32m----> 1\u001b[0m \u001b[43mtrain\u001b[49m\u001b[43m(\u001b[49m\u001b[43mmodel\u001b[49m\u001b[43m,\u001b[49m\u001b[43m \u001b[49m\u001b[43mopt\u001b[49m\u001b[43m,\u001b[49m\u001b[43m \u001b[49m\u001b[43mscheduler\u001b[49m\u001b[43m,\u001b[49m\u001b[43m \u001b[49m\u001b[43mtrain_fun\u001b[49m\u001b[38;5;241;43m=\u001b[39;49m\u001b[43mcontrastive_train_stage\u001b[49m\u001b[43m)\u001b[49m\n",
      "Cell \u001b[1;32mIn[10], line 13\u001b[0m, in \u001b[0;36mtrain\u001b[1;34m(model, opt, scheduler, batch_size, epochs, train_fun)\u001b[0m\n\u001b[0;32m     11\u001b[0m \u001b[38;5;28;01mfor\u001b[39;00m epoch \u001b[38;5;129;01min\u001b[39;00m \u001b[38;5;28mrange\u001b[39m(epochs):\n\u001b[0;32m     12\u001b[0m     model\u001b[38;5;241m.\u001b[39mtrain()\n\u001b[1;32m---> 13\u001b[0m     train_losses\u001b[38;5;241m.\u001b[39mappend(\u001b[43mtrain_fun\u001b[49m\u001b[43m(\u001b[49m\u001b[43mmodel\u001b[49m\u001b[43m,\u001b[49m\u001b[43m \u001b[49m\u001b[43mopt\u001b[49m\u001b[43m,\u001b[49m\u001b[43m \u001b[49m\u001b[43mscheduler\u001b[49m\u001b[43m,\u001b[49m\u001b[43m \u001b[49m\u001b[43mbatch_size\u001b[49m\u001b[38;5;241;43m=\u001b[39;49m\u001b[43mbatch_size\u001b[49m\u001b[43m)\u001b[49m)\n\u001b[0;32m     15\u001b[0m     model\u001b[38;5;241m.\u001b[39meval()\n\u001b[0;32m     16\u001b[0m     eval_scores\u001b[38;5;241m.\u001b[39mappend(calc_eval_score(model, batch_size\u001b[38;5;241m=\u001b[39mbatch_size))\n",
      "Cell \u001b[1;32mIn[29], line 14\u001b[0m, in \u001b[0;36mcontrastive_train_stage\u001b[1;34m(model, opt, scheduler, batch_size, lam, eps)\u001b[0m\n\u001b[0;32m     12\u001b[0m i \u001b[38;5;241m=\u001b[39m \u001b[38;5;241m0\u001b[39m\n\u001b[0;32m     13\u001b[0m \u001b[38;5;28;01mfor\u001b[39;00m X, Y, _ \u001b[38;5;129;01min\u001b[39;00m tqdm\u001b[38;5;241m.\u001b[39mtqdm(loader):\n\u001b[1;32m---> 14\u001b[0m     logits, embeddings \u001b[38;5;241m=\u001b[39m model\u001b[38;5;241m.\u001b[39mforward(\u001b[43mX\u001b[49m\u001b[38;5;241;43m.\u001b[39;49m\u001b[43mto\u001b[49m\u001b[43m(\u001b[49m\u001b[43mDEVICE\u001b[49m\u001b[43m)\u001b[49m)\n\u001b[0;32m     15\u001b[0m     y \u001b[38;5;241m=\u001b[39m Y\u001b[38;5;241m.\u001b[39mto(DEVICE)\n\u001b[0;32m     16\u001b[0m     loss1 \u001b[38;5;241m=\u001b[39m F\u001b[38;5;241m.\u001b[39mnll_loss(logits, y)\n",
      "\u001b[1;31mKeyboardInterrupt\u001b[0m: "
     ]
    }
   ],
   "source": [
    "train(model, opt, scheduler, train_fun=contrastive_train_stage)"
   ]
  },
  {
   "cell_type": "code",
   "execution_count": null,
   "metadata": {},
   "outputs": [],
   "source": [
    "torch.save(model, 'model1.pt')"
   ]
  },
  {
   "cell_type": "code",
   "execution_count": null,
   "metadata": {},
   "outputs": [],
   "source": []
  }
 ],
 "metadata": {
  "kernelspec": {
   "display_name": "Python 3",
   "language": "python",
   "name": "python3"
  },
  "language_info": {
   "codemirror_mode": {
    "name": "ipython",
    "version": 3
   },
   "file_extension": ".py",
   "mimetype": "text/x-python",
   "name": "python",
   "nbconvert_exporter": "python",
   "pygments_lexer": "ipython3",
   "version": "3.10.7"
  }
 },
 "nbformat": 4,
 "nbformat_minor": 4
}
